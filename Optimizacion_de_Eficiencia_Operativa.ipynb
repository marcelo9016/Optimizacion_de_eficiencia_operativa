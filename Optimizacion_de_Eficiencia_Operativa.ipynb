{
  "nbformat": 4,
  "nbformat_minor": 0,
  "metadata": {
    "colab": {
      "provenance": []
    },
    "kernelspec": {
      "name": "python3",
      "display_name": "Python 3"
    },
    "language_info": {
      "name": "python"
    }
  },
  "cells": [
    {
      "cell_type": "markdown",
      "source": [
        "# Análisis de eficiencia en operadores de CallMeMaybe  \n",
        "Este notebook contiene el análisis de datos sobre la eficiencia de operadores en pdf.  \n",
        "**Archivo compartido en Google Drive:**\n",
        "https://drive.google.com/file/d/1wWGQhvJqJRr3fUu-HetA2kY-8_3l8AfS/view?usp=sharing\n",
        "asi como un link a un libro de trabajo interactivo en **Tableau** sobre visualizacion y analisis de desempeño en llamadas.https://public.tableau.com/shared/DY4B66K34?:display_count=n&:origin=viz_share_link"
      ],
      "metadata": {
        "id": "QyS8dHEjabDX"
      }
    },
    {
      "cell_type": "markdown",
      "source": [
        "#1: Descripcion del proyecto"
      ],
      "metadata": {
        "id": "pFtH7skv5ok2"
      }
    },
    {
      "cell_type": "markdown",
      "source": [
        "El servicio de telefonía virtual CallMeMaybe está desarrollando una nueva función que brindará a los supervisores y las supervisores información sobre los operadores menos eficaces. Se considera que un operador es ineficaz si tiene una gran cantidad de llamadas entrantes perdidas (internas y externas) y un tiempo de espera prolongado para las llamadas entrantes. Además, si se supone que un operador debe realizar llamadas salientes, un número reducido de ellas también será un signo de ineficacia."
      ],
      "metadata": {
        "id": "dGBqWErm5r8v"
      }
    },
    {
      "cell_type": "markdown",
      "source": [
        "#2: Definir el objetivo"
      ],
      "metadata": {
        "id": "3gf479lsqjJp"
      }
    },
    {
      "cell_type": "markdown",
      "source": [
        "- Entender la distribución de las variables clave.\n",
        "- Identificar valores atípicos y patrones interesantes.\n",
        "- Analizar la relación entre llamadas perdidas, duración y cantidad de llamadas.\n",
        "- comprobar hipotesis\n",
        "  - H₀ (hipótesis nula): No existe una relación significativa entre la cantidad de llamadas perdidas y el tiempo de espera.\n",
        "  - H₁ (hipótesis alternativa): Existe una correlación positiva entre llamadas perdidas y tiempos de espera.\n",
        "-Analizar correlacion entre tiempos de espera e ineficacia."
      ],
      "metadata": {
        "id": "pyNB8378N0fE"
      }
    },
    {
      "cell_type": "markdown",
      "source": [
        "#3: Importacion , analisis y limpieza de datos."
      ],
      "metadata": {
        "id": "__i7O0YzrD3r"
      }
    },
    {
      "cell_type": "markdown",
      "source": [
        "3.1.-Importamos las librerias con las cuales vamos a trabajar"
      ],
      "metadata": {
        "id": "ftzQdZRn0nLy"
      }
    },
    {
      "cell_type": "code",
      "source": [
        "import pandas as pd\n",
        "import seaborn as sns\n",
        "import numpy as np\n",
        "import matplotlib.pyplot as plt\n",
        "from scipy.stats import ttest_ind\n",
        "from scipy.stats import levene\n",
        "from scipy import stats as st"
      ],
      "metadata": {
        "id": "6Dv1bnTP09Gd"
      },
      "execution_count": null,
      "outputs": []
    },
    {
      "cell_type": "markdown",
      "source": [
        "3.2.-Analisis inicial de datos"
      ],
      "metadata": {
        "id": "d1_voHqe2THa"
      }
    },
    {
      "cell_type": "code",
      "source": [
        "dataset = pd.read_csv('/content/telecom_dataset_us.csv')\n",
        "dataset.sample(5)"
      ],
      "metadata": {
        "colab": {
          "base_uri": "https://localhost:8080/",
          "height": 206
        },
        "id": "GqcEC1Am0s8C",
        "outputId": "bde4fd38-2e03-4545-f27f-9741816f0d49"
      },
      "execution_count": null,
      "outputs": [
        {
          "output_type": "execute_result",
          "data": {
            "text/plain": [
              "       user_id                       date direction internal  operator_id  \\\n",
              "5836    166536  2019-10-11 00:00:00+03:00       out    False     925828.0   \n",
              "26092   167150  2019-10-09 00:00:00+03:00       out    False     905566.0   \n",
              "17893   166971  2019-10-04 00:00:00+03:00        in    False     914630.0   \n",
              "16634   166916  2019-10-25 00:00:00+03:00        in    False     906400.0   \n",
              "52900   168361  2019-11-22 00:00:00+03:00       out    False     965544.0   \n",
              "\n",
              "       is_missed_call  calls_count  call_duration  total_call_duration  \n",
              "5836            False           10           1364                 1519  \n",
              "26092            True            1              0                    8  \n",
              "17893           False            1             56                   64  \n",
              "16634           False            4            297                  385  \n",
              "52900           False          135          19337                21618  "
            ],
            "text/html": [
              "\n",
              "  <div id=\"df-f39055d8-f1c2-4394-992b-c51953010cdd\" class=\"colab-df-container\">\n",
              "    <div>\n",
              "<style scoped>\n",
              "    .dataframe tbody tr th:only-of-type {\n",
              "        vertical-align: middle;\n",
              "    }\n",
              "\n",
              "    .dataframe tbody tr th {\n",
              "        vertical-align: top;\n",
              "    }\n",
              "\n",
              "    .dataframe thead th {\n",
              "        text-align: right;\n",
              "    }\n",
              "</style>\n",
              "<table border=\"1\" class=\"dataframe\">\n",
              "  <thead>\n",
              "    <tr style=\"text-align: right;\">\n",
              "      <th></th>\n",
              "      <th>user_id</th>\n",
              "      <th>date</th>\n",
              "      <th>direction</th>\n",
              "      <th>internal</th>\n",
              "      <th>operator_id</th>\n",
              "      <th>is_missed_call</th>\n",
              "      <th>calls_count</th>\n",
              "      <th>call_duration</th>\n",
              "      <th>total_call_duration</th>\n",
              "    </tr>\n",
              "  </thead>\n",
              "  <tbody>\n",
              "    <tr>\n",
              "      <th>5836</th>\n",
              "      <td>166536</td>\n",
              "      <td>2019-10-11 00:00:00+03:00</td>\n",
              "      <td>out</td>\n",
              "      <td>False</td>\n",
              "      <td>925828.0</td>\n",
              "      <td>False</td>\n",
              "      <td>10</td>\n",
              "      <td>1364</td>\n",
              "      <td>1519</td>\n",
              "    </tr>\n",
              "    <tr>\n",
              "      <th>26092</th>\n",
              "      <td>167150</td>\n",
              "      <td>2019-10-09 00:00:00+03:00</td>\n",
              "      <td>out</td>\n",
              "      <td>False</td>\n",
              "      <td>905566.0</td>\n",
              "      <td>True</td>\n",
              "      <td>1</td>\n",
              "      <td>0</td>\n",
              "      <td>8</td>\n",
              "    </tr>\n",
              "    <tr>\n",
              "      <th>17893</th>\n",
              "      <td>166971</td>\n",
              "      <td>2019-10-04 00:00:00+03:00</td>\n",
              "      <td>in</td>\n",
              "      <td>False</td>\n",
              "      <td>914630.0</td>\n",
              "      <td>False</td>\n",
              "      <td>1</td>\n",
              "      <td>56</td>\n",
              "      <td>64</td>\n",
              "    </tr>\n",
              "    <tr>\n",
              "      <th>16634</th>\n",
              "      <td>166916</td>\n",
              "      <td>2019-10-25 00:00:00+03:00</td>\n",
              "      <td>in</td>\n",
              "      <td>False</td>\n",
              "      <td>906400.0</td>\n",
              "      <td>False</td>\n",
              "      <td>4</td>\n",
              "      <td>297</td>\n",
              "      <td>385</td>\n",
              "    </tr>\n",
              "    <tr>\n",
              "      <th>52900</th>\n",
              "      <td>168361</td>\n",
              "      <td>2019-11-22 00:00:00+03:00</td>\n",
              "      <td>out</td>\n",
              "      <td>False</td>\n",
              "      <td>965544.0</td>\n",
              "      <td>False</td>\n",
              "      <td>135</td>\n",
              "      <td>19337</td>\n",
              "      <td>21618</td>\n",
              "    </tr>\n",
              "  </tbody>\n",
              "</table>\n",
              "</div>\n",
              "    <div class=\"colab-df-buttons\">\n",
              "\n",
              "  <div class=\"colab-df-container\">\n",
              "    <button class=\"colab-df-convert\" onclick=\"convertToInteractive('df-f39055d8-f1c2-4394-992b-c51953010cdd')\"\n",
              "            title=\"Convert this dataframe to an interactive table.\"\n",
              "            style=\"display:none;\">\n",
              "\n",
              "  <svg xmlns=\"http://www.w3.org/2000/svg\" height=\"24px\" viewBox=\"0 -960 960 960\">\n",
              "    <path d=\"M120-120v-720h720v720H120Zm60-500h600v-160H180v160Zm220 220h160v-160H400v160Zm0 220h160v-160H400v160ZM180-400h160v-160H180v160Zm440 0h160v-160H620v160ZM180-180h160v-160H180v160Zm440 0h160v-160H620v160Z\"/>\n",
              "  </svg>\n",
              "    </button>\n",
              "\n",
              "  <style>\n",
              "    .colab-df-container {\n",
              "      display:flex;\n",
              "      gap: 12px;\n",
              "    }\n",
              "\n",
              "    .colab-df-convert {\n",
              "      background-color: #E8F0FE;\n",
              "      border: none;\n",
              "      border-radius: 50%;\n",
              "      cursor: pointer;\n",
              "      display: none;\n",
              "      fill: #1967D2;\n",
              "      height: 32px;\n",
              "      padding: 0 0 0 0;\n",
              "      width: 32px;\n",
              "    }\n",
              "\n",
              "    .colab-df-convert:hover {\n",
              "      background-color: #E2EBFA;\n",
              "      box-shadow: 0px 1px 2px rgba(60, 64, 67, 0.3), 0px 1px 3px 1px rgba(60, 64, 67, 0.15);\n",
              "      fill: #174EA6;\n",
              "    }\n",
              "\n",
              "    .colab-df-buttons div {\n",
              "      margin-bottom: 4px;\n",
              "    }\n",
              "\n",
              "    [theme=dark] .colab-df-convert {\n",
              "      background-color: #3B4455;\n",
              "      fill: #D2E3FC;\n",
              "    }\n",
              "\n",
              "    [theme=dark] .colab-df-convert:hover {\n",
              "      background-color: #434B5C;\n",
              "      box-shadow: 0px 1px 3px 1px rgba(0, 0, 0, 0.15);\n",
              "      filter: drop-shadow(0px 1px 2px rgba(0, 0, 0, 0.3));\n",
              "      fill: #FFFFFF;\n",
              "    }\n",
              "  </style>\n",
              "\n",
              "    <script>\n",
              "      const buttonEl =\n",
              "        document.querySelector('#df-f39055d8-f1c2-4394-992b-c51953010cdd button.colab-df-convert');\n",
              "      buttonEl.style.display =\n",
              "        google.colab.kernel.accessAllowed ? 'block' : 'none';\n",
              "\n",
              "      async function convertToInteractive(key) {\n",
              "        const element = document.querySelector('#df-f39055d8-f1c2-4394-992b-c51953010cdd');\n",
              "        const dataTable =\n",
              "          await google.colab.kernel.invokeFunction('convertToInteractive',\n",
              "                                                    [key], {});\n",
              "        if (!dataTable) return;\n",
              "\n",
              "        const docLinkHtml = 'Like what you see? Visit the ' +\n",
              "          '<a target=\"_blank\" href=https://colab.research.google.com/notebooks/data_table.ipynb>data table notebook</a>'\n",
              "          + ' to learn more about interactive tables.';\n",
              "        element.innerHTML = '';\n",
              "        dataTable['output_type'] = 'display_data';\n",
              "        await google.colab.output.renderOutput(dataTable, element);\n",
              "        const docLink = document.createElement('div');\n",
              "        docLink.innerHTML = docLinkHtml;\n",
              "        element.appendChild(docLink);\n",
              "      }\n",
              "    </script>\n",
              "  </div>\n",
              "\n",
              "\n",
              "    <div id=\"df-c8b02780-9740-49d9-8b00-471c2b4d8136\">\n",
              "      <button class=\"colab-df-quickchart\" onclick=\"quickchart('df-c8b02780-9740-49d9-8b00-471c2b4d8136')\"\n",
              "                title=\"Suggest charts\"\n",
              "                style=\"display:none;\">\n",
              "\n",
              "<svg xmlns=\"http://www.w3.org/2000/svg\" height=\"24px\"viewBox=\"0 0 24 24\"\n",
              "     width=\"24px\">\n",
              "    <g>\n",
              "        <path d=\"M19 3H5c-1.1 0-2 .9-2 2v14c0 1.1.9 2 2 2h14c1.1 0 2-.9 2-2V5c0-1.1-.9-2-2-2zM9 17H7v-7h2v7zm4 0h-2V7h2v10zm4 0h-2v-4h2v4z\"/>\n",
              "    </g>\n",
              "</svg>\n",
              "      </button>\n",
              "\n",
              "<style>\n",
              "  .colab-df-quickchart {\n",
              "      --bg-color: #E8F0FE;\n",
              "      --fill-color: #1967D2;\n",
              "      --hover-bg-color: #E2EBFA;\n",
              "      --hover-fill-color: #174EA6;\n",
              "      --disabled-fill-color: #AAA;\n",
              "      --disabled-bg-color: #DDD;\n",
              "  }\n",
              "\n",
              "  [theme=dark] .colab-df-quickchart {\n",
              "      --bg-color: #3B4455;\n",
              "      --fill-color: #D2E3FC;\n",
              "      --hover-bg-color: #434B5C;\n",
              "      --hover-fill-color: #FFFFFF;\n",
              "      --disabled-bg-color: #3B4455;\n",
              "      --disabled-fill-color: #666;\n",
              "  }\n",
              "\n",
              "  .colab-df-quickchart {\n",
              "    background-color: var(--bg-color);\n",
              "    border: none;\n",
              "    border-radius: 50%;\n",
              "    cursor: pointer;\n",
              "    display: none;\n",
              "    fill: var(--fill-color);\n",
              "    height: 32px;\n",
              "    padding: 0;\n",
              "    width: 32px;\n",
              "  }\n",
              "\n",
              "  .colab-df-quickchart:hover {\n",
              "    background-color: var(--hover-bg-color);\n",
              "    box-shadow: 0 1px 2px rgba(60, 64, 67, 0.3), 0 1px 3px 1px rgba(60, 64, 67, 0.15);\n",
              "    fill: var(--button-hover-fill-color);\n",
              "  }\n",
              "\n",
              "  .colab-df-quickchart-complete:disabled,\n",
              "  .colab-df-quickchart-complete:disabled:hover {\n",
              "    background-color: var(--disabled-bg-color);\n",
              "    fill: var(--disabled-fill-color);\n",
              "    box-shadow: none;\n",
              "  }\n",
              "\n",
              "  .colab-df-spinner {\n",
              "    border: 2px solid var(--fill-color);\n",
              "    border-color: transparent;\n",
              "    border-bottom-color: var(--fill-color);\n",
              "    animation:\n",
              "      spin 1s steps(1) infinite;\n",
              "  }\n",
              "\n",
              "  @keyframes spin {\n",
              "    0% {\n",
              "      border-color: transparent;\n",
              "      border-bottom-color: var(--fill-color);\n",
              "      border-left-color: var(--fill-color);\n",
              "    }\n",
              "    20% {\n",
              "      border-color: transparent;\n",
              "      border-left-color: var(--fill-color);\n",
              "      border-top-color: var(--fill-color);\n",
              "    }\n",
              "    30% {\n",
              "      border-color: transparent;\n",
              "      border-left-color: var(--fill-color);\n",
              "      border-top-color: var(--fill-color);\n",
              "      border-right-color: var(--fill-color);\n",
              "    }\n",
              "    40% {\n",
              "      border-color: transparent;\n",
              "      border-right-color: var(--fill-color);\n",
              "      border-top-color: var(--fill-color);\n",
              "    }\n",
              "    60% {\n",
              "      border-color: transparent;\n",
              "      border-right-color: var(--fill-color);\n",
              "    }\n",
              "    80% {\n",
              "      border-color: transparent;\n",
              "      border-right-color: var(--fill-color);\n",
              "      border-bottom-color: var(--fill-color);\n",
              "    }\n",
              "    90% {\n",
              "      border-color: transparent;\n",
              "      border-bottom-color: var(--fill-color);\n",
              "    }\n",
              "  }\n",
              "</style>\n",
              "\n",
              "      <script>\n",
              "        async function quickchart(key) {\n",
              "          const quickchartButtonEl =\n",
              "            document.querySelector('#' + key + ' button');\n",
              "          quickchartButtonEl.disabled = true;  // To prevent multiple clicks.\n",
              "          quickchartButtonEl.classList.add('colab-df-spinner');\n",
              "          try {\n",
              "            const charts = await google.colab.kernel.invokeFunction(\n",
              "                'suggestCharts', [key], {});\n",
              "          } catch (error) {\n",
              "            console.error('Error during call to suggestCharts:', error);\n",
              "          }\n",
              "          quickchartButtonEl.classList.remove('colab-df-spinner');\n",
              "          quickchartButtonEl.classList.add('colab-df-quickchart-complete');\n",
              "        }\n",
              "        (() => {\n",
              "          let quickchartButtonEl =\n",
              "            document.querySelector('#df-c8b02780-9740-49d9-8b00-471c2b4d8136 button');\n",
              "          quickchartButtonEl.style.display =\n",
              "            google.colab.kernel.accessAllowed ? 'block' : 'none';\n",
              "        })();\n",
              "      </script>\n",
              "    </div>\n",
              "\n",
              "    </div>\n",
              "  </div>\n"
            ],
            "application/vnd.google.colaboratory.intrinsic+json": {
              "type": "dataframe",
              "repr_error": "0"
            }
          },
          "metadata": {},
          "execution_count": 2
        }
      ]
    },
    {
      "cell_type": "markdown",
      "source": [
        "3.3.-Verificacion del tipo de datos"
      ],
      "metadata": {
        "id": "kdSOHrxn2rHy"
      }
    },
    {
      "cell_type": "code",
      "source": [
        "dataset.info()"
      ],
      "metadata": {
        "colab": {
          "base_uri": "https://localhost:8080/"
        },
        "id": "Ua7j28ln2keR",
        "outputId": "eaaff70b-55c1-4884-ea5c-ca4c4c52fc1d"
      },
      "execution_count": null,
      "outputs": [
        {
          "output_type": "stream",
          "name": "stdout",
          "text": [
            "<class 'pandas.core.frame.DataFrame'>\n",
            "RangeIndex: 53902 entries, 0 to 53901\n",
            "Data columns (total 9 columns):\n",
            " #   Column               Non-Null Count  Dtype  \n",
            "---  ------               --------------  -----  \n",
            " 0   user_id              53902 non-null  int64  \n",
            " 1   date                 53902 non-null  object \n",
            " 2   direction            53902 non-null  object \n",
            " 3   internal             53785 non-null  object \n",
            " 4   operator_id          45730 non-null  float64\n",
            " 5   is_missed_call       53902 non-null  bool   \n",
            " 6   calls_count          53902 non-null  int64  \n",
            " 7   call_duration        53902 non-null  int64  \n",
            " 8   total_call_duration  53902 non-null  int64  \n",
            "dtypes: bool(1), float64(1), int64(4), object(3)\n",
            "memory usage: 3.3+ MB\n"
          ]
        }
      ]
    },
    {
      "cell_type": "markdown",
      "source": [
        "3.4.-Correccion de datos"
      ],
      "metadata": {
        "id": "vGWPabca3XnC"
      }
    },
    {
      "cell_type": "code",
      "source": [
        "dataset['date']=pd.to_datetime(dataset['date'])"
      ],
      "metadata": {
        "id": "g-nO1RHB3dia"
      },
      "execution_count": null,
      "outputs": []
    },
    {
      "cell_type": "markdown",
      "source": [
        "3.5.-Revisamos valores ausentes"
      ],
      "metadata": {
        "id": "iQ3otsCk4o-Z"
      }
    },
    {
      "cell_type": "code",
      "source": [
        "dataset.isnull().sum()"
      ],
      "metadata": {
        "colab": {
          "base_uri": "https://localhost:8080/",
          "height": 366
        },
        "id": "pDoBlEfW4ur5",
        "outputId": "dedd144e-e154-4ac8-df2c-853cfa8622aa"
      },
      "execution_count": null,
      "outputs": [
        {
          "output_type": "execute_result",
          "data": {
            "text/plain": [
              "user_id                   0\n",
              "date                      0\n",
              "direction                 0\n",
              "internal                117\n",
              "operator_id            8172\n",
              "is_missed_call            0\n",
              "calls_count               0\n",
              "call_duration             0\n",
              "total_call_duration       0\n",
              "dtype: int64"
            ],
            "text/html": [
              "<div>\n",
              "<style scoped>\n",
              "    .dataframe tbody tr th:only-of-type {\n",
              "        vertical-align: middle;\n",
              "    }\n",
              "\n",
              "    .dataframe tbody tr th {\n",
              "        vertical-align: top;\n",
              "    }\n",
              "\n",
              "    .dataframe thead th {\n",
              "        text-align: right;\n",
              "    }\n",
              "</style>\n",
              "<table border=\"1\" class=\"dataframe\">\n",
              "  <thead>\n",
              "    <tr style=\"text-align: right;\">\n",
              "      <th></th>\n",
              "      <th>0</th>\n",
              "    </tr>\n",
              "  </thead>\n",
              "  <tbody>\n",
              "    <tr>\n",
              "      <th>user_id</th>\n",
              "      <td>0</td>\n",
              "    </tr>\n",
              "    <tr>\n",
              "      <th>date</th>\n",
              "      <td>0</td>\n",
              "    </tr>\n",
              "    <tr>\n",
              "      <th>direction</th>\n",
              "      <td>0</td>\n",
              "    </tr>\n",
              "    <tr>\n",
              "      <th>internal</th>\n",
              "      <td>117</td>\n",
              "    </tr>\n",
              "    <tr>\n",
              "      <th>operator_id</th>\n",
              "      <td>8172</td>\n",
              "    </tr>\n",
              "    <tr>\n",
              "      <th>is_missed_call</th>\n",
              "      <td>0</td>\n",
              "    </tr>\n",
              "    <tr>\n",
              "      <th>calls_count</th>\n",
              "      <td>0</td>\n",
              "    </tr>\n",
              "    <tr>\n",
              "      <th>call_duration</th>\n",
              "      <td>0</td>\n",
              "    </tr>\n",
              "    <tr>\n",
              "      <th>total_call_duration</th>\n",
              "      <td>0</td>\n",
              "    </tr>\n",
              "  </tbody>\n",
              "</table>\n",
              "</div><br><label><b>dtype:</b> int64</label>"
            ]
          },
          "metadata": {},
          "execution_count": 5
        }
      ]
    },
    {
      "cell_type": "markdown",
      "source": [
        "***Al ser muy poco los valores ausentes de la columna internal los tratamos con la palabra Desconocido***"
      ],
      "metadata": {
        "id": "0f3h-H-f9nLR"
      }
    },
    {
      "cell_type": "code",
      "source": [
        "dataset[\"internal\"].fillna(\"Desconocido\")\n"
      ],
      "metadata": {
        "colab": {
          "base_uri": "https://localhost:8080/",
          "height": 458
        },
        "id": "nR-iEodH9awa",
        "outputId": "58d77a9b-f6c3-4aa0-d71f-bc15ab32b9aa"
      },
      "execution_count": null,
      "outputs": [
        {
          "output_type": "execute_result",
          "data": {
            "text/plain": [
              "0        False\n",
              "1         True\n",
              "2         True\n",
              "3         True\n",
              "4        False\n",
              "         ...  \n",
              "53897     True\n",
              "53898     True\n",
              "53899     True\n",
              "53900     True\n",
              "53901    False\n",
              "Name: internal, Length: 53902, dtype: object"
            ],
            "text/html": [
              "<div>\n",
              "<style scoped>\n",
              "    .dataframe tbody tr th:only-of-type {\n",
              "        vertical-align: middle;\n",
              "    }\n",
              "\n",
              "    .dataframe tbody tr th {\n",
              "        vertical-align: top;\n",
              "    }\n",
              "\n",
              "    .dataframe thead th {\n",
              "        text-align: right;\n",
              "    }\n",
              "</style>\n",
              "<table border=\"1\" class=\"dataframe\">\n",
              "  <thead>\n",
              "    <tr style=\"text-align: right;\">\n",
              "      <th></th>\n",
              "      <th>internal</th>\n",
              "    </tr>\n",
              "  </thead>\n",
              "  <tbody>\n",
              "    <tr>\n",
              "      <th>0</th>\n",
              "      <td>False</td>\n",
              "    </tr>\n",
              "    <tr>\n",
              "      <th>1</th>\n",
              "      <td>True</td>\n",
              "    </tr>\n",
              "    <tr>\n",
              "      <th>2</th>\n",
              "      <td>True</td>\n",
              "    </tr>\n",
              "    <tr>\n",
              "      <th>3</th>\n",
              "      <td>True</td>\n",
              "    </tr>\n",
              "    <tr>\n",
              "      <th>4</th>\n",
              "      <td>False</td>\n",
              "    </tr>\n",
              "    <tr>\n",
              "      <th>...</th>\n",
              "      <td>...</td>\n",
              "    </tr>\n",
              "    <tr>\n",
              "      <th>53897</th>\n",
              "      <td>True</td>\n",
              "    </tr>\n",
              "    <tr>\n",
              "      <th>53898</th>\n",
              "      <td>True</td>\n",
              "    </tr>\n",
              "    <tr>\n",
              "      <th>53899</th>\n",
              "      <td>True</td>\n",
              "    </tr>\n",
              "    <tr>\n",
              "      <th>53900</th>\n",
              "      <td>True</td>\n",
              "    </tr>\n",
              "    <tr>\n",
              "      <th>53901</th>\n",
              "      <td>False</td>\n",
              "    </tr>\n",
              "  </tbody>\n",
              "</table>\n",
              "<p>53902 rows × 1 columns</p>\n",
              "</div><br><label><b>dtype:</b> object</label>"
            ]
          },
          "metadata": {},
          "execution_count": 6
        }
      ]
    },
    {
      "cell_type": "markdown",
      "source": [
        "3.6.- Reviisamos duplicados en nuetros datos"
      ],
      "metadata": {
        "id": "NQhZWxsi5ylS"
      }
    },
    {
      "cell_type": "code",
      "source": [
        "dataset.duplicated().sum()"
      ],
      "metadata": {
        "colab": {
          "base_uri": "https://localhost:8080/"
        },
        "id": "mSkFtpdv53K3",
        "outputId": "4ed3745f-2f87-4a66-cd03-56801ab07420"
      },
      "execution_count": null,
      "outputs": [
        {
          "output_type": "execute_result",
          "data": {
            "text/plain": [
              "np.int64(4900)"
            ]
          },
          "metadata": {},
          "execution_count": 7
        }
      ]
    },
    {
      "cell_type": "markdown",
      "source": [
        "***Eliminamos duplicados exactos***"
      ],
      "metadata": {
        "id": "6yYHC-wwIWNl"
      }
    },
    {
      "cell_type": "code",
      "source": [
        "dataset = dataset.drop_duplicates()\n",
        "print(f\"Registros después de eliminar duplicados exactos: {dataset.shape[0]}\")\n"
      ],
      "metadata": {
        "colab": {
          "base_uri": "https://localhost:8080/"
        },
        "id": "oWfzj_PNHaxt",
        "outputId": "2c69f686-2c6b-4e93-eff9-564597dca5f7"
      },
      "execution_count": null,
      "outputs": [
        {
          "output_type": "stream",
          "name": "stdout",
          "text": [
            "Registros después de eliminar duplicados exactos: 49002\n"
          ]
        }
      ]
    },
    {
      "cell_type": "markdown",
      "source": [
        "- Se redujo el dataset de 53,902 registros a 49,002, lo que significa que los duplicados idénticos representaban una parte considerable.\n",
        "\n",
        "- Esto elimina registros repetidos que no aportaban información nueva"
      ],
      "metadata": {
        "id": "Wfyex9XYIv_s"
      }
    },
    {
      "cell_type": "markdown",
      "source": [
        "***Consolidamos registros por usuario y fecha***"
      ],
      "metadata": {
        "id": "7hEtr_f5Id_8"
      }
    },
    {
      "cell_type": "markdown",
      "source": [
        "***Verificamos que los usuarios y fechas únicas permanezcan estables***"
      ],
      "metadata": {
        "id": "krCEzBPrInFn"
      }
    },
    {
      "cell_type": "code",
      "source": [
        "print(f\"Usuarios únicos antes: {dataset['user_id'].nunique()}, después: {dataset['user_id'].nunique()}\")\n",
        "print(f\"Fechas únicas antes: {dataset['date'].nunique()}, después: {dataset['date'].nunique()}\")\n"
      ],
      "metadata": {
        "colab": {
          "base_uri": "https://localhost:8080/"
        },
        "id": "kko8-Jh9Hapz",
        "outputId": "90be2189-22f1-4c96-80be-9069bad79f71"
      },
      "execution_count": null,
      "outputs": [
        {
          "output_type": "stream",
          "name": "stdout",
          "text": [
            "Usuarios únicos antes: 307, después: 307\n",
            "Fechas únicas antes: 119, después: 119\n"
          ]
        }
      ]
    },
    {
      "cell_type": "markdown",
      "source": [
        "- 307 usuarios únicos antes y después, lo que confirma que no eliminamos datos importantes.\n",
        "\n",
        "- 119 fechas únicas antes y después, lo que indica que la consolidación no afectó la estructura temporal del dataset."
      ],
      "metadata": {
        "id": "YcTB4YuYJHOU"
      }
    },
    {
      "cell_type": "markdown",
      "source": [
        "3.6.-Obtenemos estadisticas basicas de nuestros datos"
      ],
      "metadata": {
        "id": "A7clyb996KIB"
      }
    },
    {
      "cell_type": "code",
      "source": [
        "dataset.describe()"
      ],
      "metadata": {
        "colab": {
          "base_uri": "https://localhost:8080/",
          "height": 300
        },
        "id": "aUgTvgd56PeF",
        "outputId": "38d899cb-948a-481f-b419-5cf1b22dca8f"
      },
      "execution_count": null,
      "outputs": [
        {
          "output_type": "execute_result",
          "data": {
            "text/plain": [
              "             user_id    operator_id   calls_count  call_duration  \\\n",
              "count   49002.000000   41546.000000  49002.000000   49002.000000   \n",
              "mean   167294.892759  916523.315409     16.462777     866.282091   \n",
              "std       598.558965   21230.041008     63.604098    3775.503352   \n",
              "min    166377.000000  879896.000000      1.000000       0.000000   \n",
              "25%    166782.000000  900790.500000      1.000000       0.000000   \n",
              "50%    167158.000000  913938.000000      4.000000      37.000000   \n",
              "75%    167819.000000  937708.000000     12.000000     570.000000   \n",
              "max    168606.000000  973286.000000   4817.000000  144395.000000   \n",
              "\n",
              "       total_call_duration  \n",
              "count         49002.000000  \n",
              "mean           1156.558202  \n",
              "std            4451.473661  \n",
              "min               0.000000  \n",
              "25%              46.000000  \n",
              "50%             208.000000  \n",
              "75%             901.000000  \n",
              "max          166155.000000  "
            ],
            "text/html": [
              "\n",
              "  <div id=\"df-2b1798b6-17bd-4572-8273-3c97f77d7ae4\" class=\"colab-df-container\">\n",
              "    <div>\n",
              "<style scoped>\n",
              "    .dataframe tbody tr th:only-of-type {\n",
              "        vertical-align: middle;\n",
              "    }\n",
              "\n",
              "    .dataframe tbody tr th {\n",
              "        vertical-align: top;\n",
              "    }\n",
              "\n",
              "    .dataframe thead th {\n",
              "        text-align: right;\n",
              "    }\n",
              "</style>\n",
              "<table border=\"1\" class=\"dataframe\">\n",
              "  <thead>\n",
              "    <tr style=\"text-align: right;\">\n",
              "      <th></th>\n",
              "      <th>user_id</th>\n",
              "      <th>operator_id</th>\n",
              "      <th>calls_count</th>\n",
              "      <th>call_duration</th>\n",
              "      <th>total_call_duration</th>\n",
              "    </tr>\n",
              "  </thead>\n",
              "  <tbody>\n",
              "    <tr>\n",
              "      <th>count</th>\n",
              "      <td>49002.000000</td>\n",
              "      <td>41546.000000</td>\n",
              "      <td>49002.000000</td>\n",
              "      <td>49002.000000</td>\n",
              "      <td>49002.000000</td>\n",
              "    </tr>\n",
              "    <tr>\n",
              "      <th>mean</th>\n",
              "      <td>167294.892759</td>\n",
              "      <td>916523.315409</td>\n",
              "      <td>16.462777</td>\n",
              "      <td>866.282091</td>\n",
              "      <td>1156.558202</td>\n",
              "    </tr>\n",
              "    <tr>\n",
              "      <th>std</th>\n",
              "      <td>598.558965</td>\n",
              "      <td>21230.041008</td>\n",
              "      <td>63.604098</td>\n",
              "      <td>3775.503352</td>\n",
              "      <td>4451.473661</td>\n",
              "    </tr>\n",
              "    <tr>\n",
              "      <th>min</th>\n",
              "      <td>166377.000000</td>\n",
              "      <td>879896.000000</td>\n",
              "      <td>1.000000</td>\n",
              "      <td>0.000000</td>\n",
              "      <td>0.000000</td>\n",
              "    </tr>\n",
              "    <tr>\n",
              "      <th>25%</th>\n",
              "      <td>166782.000000</td>\n",
              "      <td>900790.500000</td>\n",
              "      <td>1.000000</td>\n",
              "      <td>0.000000</td>\n",
              "      <td>46.000000</td>\n",
              "    </tr>\n",
              "    <tr>\n",
              "      <th>50%</th>\n",
              "      <td>167158.000000</td>\n",
              "      <td>913938.000000</td>\n",
              "      <td>4.000000</td>\n",
              "      <td>37.000000</td>\n",
              "      <td>208.000000</td>\n",
              "    </tr>\n",
              "    <tr>\n",
              "      <th>75%</th>\n",
              "      <td>167819.000000</td>\n",
              "      <td>937708.000000</td>\n",
              "      <td>12.000000</td>\n",
              "      <td>570.000000</td>\n",
              "      <td>901.000000</td>\n",
              "    </tr>\n",
              "    <tr>\n",
              "      <th>max</th>\n",
              "      <td>168606.000000</td>\n",
              "      <td>973286.000000</td>\n",
              "      <td>4817.000000</td>\n",
              "      <td>144395.000000</td>\n",
              "      <td>166155.000000</td>\n",
              "    </tr>\n",
              "  </tbody>\n",
              "</table>\n",
              "</div>\n",
              "    <div class=\"colab-df-buttons\">\n",
              "\n",
              "  <div class=\"colab-df-container\">\n",
              "    <button class=\"colab-df-convert\" onclick=\"convertToInteractive('df-2b1798b6-17bd-4572-8273-3c97f77d7ae4')\"\n",
              "            title=\"Convert this dataframe to an interactive table.\"\n",
              "            style=\"display:none;\">\n",
              "\n",
              "  <svg xmlns=\"http://www.w3.org/2000/svg\" height=\"24px\" viewBox=\"0 -960 960 960\">\n",
              "    <path d=\"M120-120v-720h720v720H120Zm60-500h600v-160H180v160Zm220 220h160v-160H400v160Zm0 220h160v-160H400v160ZM180-400h160v-160H180v160Zm440 0h160v-160H620v160ZM180-180h160v-160H180v160Zm440 0h160v-160H620v160Z\"/>\n",
              "  </svg>\n",
              "    </button>\n",
              "\n",
              "  <style>\n",
              "    .colab-df-container {\n",
              "      display:flex;\n",
              "      gap: 12px;\n",
              "    }\n",
              "\n",
              "    .colab-df-convert {\n",
              "      background-color: #E8F0FE;\n",
              "      border: none;\n",
              "      border-radius: 50%;\n",
              "      cursor: pointer;\n",
              "      display: none;\n",
              "      fill: #1967D2;\n",
              "      height: 32px;\n",
              "      padding: 0 0 0 0;\n",
              "      width: 32px;\n",
              "    }\n",
              "\n",
              "    .colab-df-convert:hover {\n",
              "      background-color: #E2EBFA;\n",
              "      box-shadow: 0px 1px 2px rgba(60, 64, 67, 0.3), 0px 1px 3px 1px rgba(60, 64, 67, 0.15);\n",
              "      fill: #174EA6;\n",
              "    }\n",
              "\n",
              "    .colab-df-buttons div {\n",
              "      margin-bottom: 4px;\n",
              "    }\n",
              "\n",
              "    [theme=dark] .colab-df-convert {\n",
              "      background-color: #3B4455;\n",
              "      fill: #D2E3FC;\n",
              "    }\n",
              "\n",
              "    [theme=dark] .colab-df-convert:hover {\n",
              "      background-color: #434B5C;\n",
              "      box-shadow: 0px 1px 3px 1px rgba(0, 0, 0, 0.15);\n",
              "      filter: drop-shadow(0px 1px 2px rgba(0, 0, 0, 0.3));\n",
              "      fill: #FFFFFF;\n",
              "    }\n",
              "  </style>\n",
              "\n",
              "    <script>\n",
              "      const buttonEl =\n",
              "        document.querySelector('#df-2b1798b6-17bd-4572-8273-3c97f77d7ae4 button.colab-df-convert');\n",
              "      buttonEl.style.display =\n",
              "        google.colab.kernel.accessAllowed ? 'block' : 'none';\n",
              "\n",
              "      async function convertToInteractive(key) {\n",
              "        const element = document.querySelector('#df-2b1798b6-17bd-4572-8273-3c97f77d7ae4');\n",
              "        const dataTable =\n",
              "          await google.colab.kernel.invokeFunction('convertToInteractive',\n",
              "                                                    [key], {});\n",
              "        if (!dataTable) return;\n",
              "\n",
              "        const docLinkHtml = 'Like what you see? Visit the ' +\n",
              "          '<a target=\"_blank\" href=https://colab.research.google.com/notebooks/data_table.ipynb>data table notebook</a>'\n",
              "          + ' to learn more about interactive tables.';\n",
              "        element.innerHTML = '';\n",
              "        dataTable['output_type'] = 'display_data';\n",
              "        await google.colab.output.renderOutput(dataTable, element);\n",
              "        const docLink = document.createElement('div');\n",
              "        docLink.innerHTML = docLinkHtml;\n",
              "        element.appendChild(docLink);\n",
              "      }\n",
              "    </script>\n",
              "  </div>\n",
              "\n",
              "\n",
              "    <div id=\"df-c9baa8a6-b921-478d-9e16-ca02e4c991ac\">\n",
              "      <button class=\"colab-df-quickchart\" onclick=\"quickchart('df-c9baa8a6-b921-478d-9e16-ca02e4c991ac')\"\n",
              "                title=\"Suggest charts\"\n",
              "                style=\"display:none;\">\n",
              "\n",
              "<svg xmlns=\"http://www.w3.org/2000/svg\" height=\"24px\"viewBox=\"0 0 24 24\"\n",
              "     width=\"24px\">\n",
              "    <g>\n",
              "        <path d=\"M19 3H5c-1.1 0-2 .9-2 2v14c0 1.1.9 2 2 2h14c1.1 0 2-.9 2-2V5c0-1.1-.9-2-2-2zM9 17H7v-7h2v7zm4 0h-2V7h2v10zm4 0h-2v-4h2v4z\"/>\n",
              "    </g>\n",
              "</svg>\n",
              "      </button>\n",
              "\n",
              "<style>\n",
              "  .colab-df-quickchart {\n",
              "      --bg-color: #E8F0FE;\n",
              "      --fill-color: #1967D2;\n",
              "      --hover-bg-color: #E2EBFA;\n",
              "      --hover-fill-color: #174EA6;\n",
              "      --disabled-fill-color: #AAA;\n",
              "      --disabled-bg-color: #DDD;\n",
              "  }\n",
              "\n",
              "  [theme=dark] .colab-df-quickchart {\n",
              "      --bg-color: #3B4455;\n",
              "      --fill-color: #D2E3FC;\n",
              "      --hover-bg-color: #434B5C;\n",
              "      --hover-fill-color: #FFFFFF;\n",
              "      --disabled-bg-color: #3B4455;\n",
              "      --disabled-fill-color: #666;\n",
              "  }\n",
              "\n",
              "  .colab-df-quickchart {\n",
              "    background-color: var(--bg-color);\n",
              "    border: none;\n",
              "    border-radius: 50%;\n",
              "    cursor: pointer;\n",
              "    display: none;\n",
              "    fill: var(--fill-color);\n",
              "    height: 32px;\n",
              "    padding: 0;\n",
              "    width: 32px;\n",
              "  }\n",
              "\n",
              "  .colab-df-quickchart:hover {\n",
              "    background-color: var(--hover-bg-color);\n",
              "    box-shadow: 0 1px 2px rgba(60, 64, 67, 0.3), 0 1px 3px 1px rgba(60, 64, 67, 0.15);\n",
              "    fill: var(--button-hover-fill-color);\n",
              "  }\n",
              "\n",
              "  .colab-df-quickchart-complete:disabled,\n",
              "  .colab-df-quickchart-complete:disabled:hover {\n",
              "    background-color: var(--disabled-bg-color);\n",
              "    fill: var(--disabled-fill-color);\n",
              "    box-shadow: none;\n",
              "  }\n",
              "\n",
              "  .colab-df-spinner {\n",
              "    border: 2px solid var(--fill-color);\n",
              "    border-color: transparent;\n",
              "    border-bottom-color: var(--fill-color);\n",
              "    animation:\n",
              "      spin 1s steps(1) infinite;\n",
              "  }\n",
              "\n",
              "  @keyframes spin {\n",
              "    0% {\n",
              "      border-color: transparent;\n",
              "      border-bottom-color: var(--fill-color);\n",
              "      border-left-color: var(--fill-color);\n",
              "    }\n",
              "    20% {\n",
              "      border-color: transparent;\n",
              "      border-left-color: var(--fill-color);\n",
              "      border-top-color: var(--fill-color);\n",
              "    }\n",
              "    30% {\n",
              "      border-color: transparent;\n",
              "      border-left-color: var(--fill-color);\n",
              "      border-top-color: var(--fill-color);\n",
              "      border-right-color: var(--fill-color);\n",
              "    }\n",
              "    40% {\n",
              "      border-color: transparent;\n",
              "      border-right-color: var(--fill-color);\n",
              "      border-top-color: var(--fill-color);\n",
              "    }\n",
              "    60% {\n",
              "      border-color: transparent;\n",
              "      border-right-color: var(--fill-color);\n",
              "    }\n",
              "    80% {\n",
              "      border-color: transparent;\n",
              "      border-right-color: var(--fill-color);\n",
              "      border-bottom-color: var(--fill-color);\n",
              "    }\n",
              "    90% {\n",
              "      border-color: transparent;\n",
              "      border-bottom-color: var(--fill-color);\n",
              "    }\n",
              "  }\n",
              "</style>\n",
              "\n",
              "      <script>\n",
              "        async function quickchart(key) {\n",
              "          const quickchartButtonEl =\n",
              "            document.querySelector('#' + key + ' button');\n",
              "          quickchartButtonEl.disabled = true;  // To prevent multiple clicks.\n",
              "          quickchartButtonEl.classList.add('colab-df-spinner');\n",
              "          try {\n",
              "            const charts = await google.colab.kernel.invokeFunction(\n",
              "                'suggestCharts', [key], {});\n",
              "          } catch (error) {\n",
              "            console.error('Error during call to suggestCharts:', error);\n",
              "          }\n",
              "          quickchartButtonEl.classList.remove('colab-df-spinner');\n",
              "          quickchartButtonEl.classList.add('colab-df-quickchart-complete');\n",
              "        }\n",
              "        (() => {\n",
              "          let quickchartButtonEl =\n",
              "            document.querySelector('#df-c9baa8a6-b921-478d-9e16-ca02e4c991ac button');\n",
              "          quickchartButtonEl.style.display =\n",
              "            google.colab.kernel.accessAllowed ? 'block' : 'none';\n",
              "        })();\n",
              "      </script>\n",
              "    </div>\n",
              "\n",
              "    </div>\n",
              "  </div>\n"
            ],
            "application/vnd.google.colaboratory.intrinsic+json": {
              "type": "dataframe",
              "summary": "{\n  \"name\": \"dataset\",\n  \"rows\": 8,\n  \"fields\": [\n    {\n      \"column\": \"user_id\",\n      \"properties\": {\n        \"dtype\": \"number\",\n        \"std\": 67242.30075392846,\n        \"min\": 598.5589646608612,\n        \"max\": 168606.0,\n        \"num_unique_values\": 8,\n        \"samples\": [\n          167294.8927594792,\n          167158.0,\n          49002.0\n        ],\n        \"semantic_type\": \"\",\n        \"description\": \"\"\n      }\n    },\n    {\n      \"column\": \"operator_id\",\n      \"properties\": {\n        \"dtype\": \"number\",\n        \"std\": 412446.26216035546,\n        \"min\": 21230.041007940676,\n        \"max\": 973286.0,\n        \"num_unique_values\": 8,\n        \"samples\": [\n          916523.3154094256,\n          913938.0,\n          41546.0\n        ],\n        \"semantic_type\": \"\",\n        \"description\": \"\"\n      }\n    },\n    {\n      \"column\": \"calls_count\",\n      \"properties\": {\n        \"dtype\": \"number\",\n        \"std\": 17159.015576813003,\n        \"min\": 1.0,\n        \"max\": 49002.0,\n        \"num_unique_values\": 7,\n        \"samples\": [\n          49002.0,\n          16.462777029509,\n          12.0\n        ],\n        \"semantic_type\": \"\",\n        \"description\": \"\"\n      }\n    },\n    {\n      \"column\": \"call_duration\",\n      \"properties\": {\n        \"dtype\": \"number\",\n        \"std\": 51177.45689401377,\n        \"min\": 0.0,\n        \"max\": 144395.0,\n        \"num_unique_values\": 7,\n        \"samples\": [\n          49002.0,\n          866.2820905269173,\n          570.0\n        ],\n        \"semantic_type\": \"\",\n        \"description\": \"\"\n      }\n    },\n    {\n      \"column\": \"total_call_duration\",\n      \"properties\": {\n        \"dtype\": \"number\",\n        \"std\": 58400.865804329136,\n        \"min\": 0.0,\n        \"max\": 166155.0,\n        \"num_unique_values\": 8,\n        \"samples\": [\n          1156.5582017060528,\n          208.0,\n          49002.0\n        ],\n        \"semantic_type\": \"\",\n        \"description\": \"\"\n      }\n    }\n  ]\n}"
            }
          },
          "metadata": {},
          "execution_count": 10
        }
      ]
    },
    {
      "cell_type": "markdown",
      "source": [
        "Resumen estadístico:\n",
        "\n",
        "- Número total de registros: 49,002 llamadas registradas en el dataset.  \n",
        "\n",
        "Distribución de calls_count (cantidad de llamadas por operador):\n",
        "\n",
        "- Media: 16 llamadas por operador.\n",
        "\n",
        "- Mediana: Solo 4 llamadas, lo que sugiere que hay operadores con muchas menos llamadas que el promedio.\n",
        "\n",
        "- Máximo: Un operador ha realizado 4,817 llamadas, lo cual es un valor extremo.\n",
        "\n",
        "Duración de llamadas (call_duration):\n",
        "\n",
        "- Media: 866 segundos (~14.4 minutos).\n",
        "\n",
        "- Máximo: 144,395 segundos (~40 horas), lo que parece anómalo y posiblemente requiera revisión.\n",
        "\n",
        "Duración total de llamadas (total_call_duration):\n",
        "\n",
        "- Media: 1,156 segundos (~19.3 minutos).\n",
        "\n",
        "- Mínimo: 0 segundos → Indica posibles llamadas sin conexión o perdidas.\n",
        "\n",
        "- Máximo: 166,155 segundos (~46 horas), otro posible valor atípico."
      ],
      "metadata": {
        "id": "tZx9BLE9-dLo"
      }
    },
    {
      "cell_type": "markdown",
      "source": [
        "#4: Análisis exploratorio de datos (EDA)"
      ],
      "metadata": {
        "id": "mGvEp7GQ71e3"
      }
    },
    {
      "cell_type": "markdown",
      "source": [
        "4.1.- Calcular la tendencias en la distribución de las llamadas"
      ],
      "metadata": {
        "id": "kd8lozWi77I4"
      }
    },
    {
      "cell_type": "code",
      "source": [
        "# Distribución de duración de llamadas\n",
        "plt.figure(figsize=(10, 5))\n",
        "sns.histplot(dataset[\"call_duration\"], bins=50, kde=True)\n",
        "plt.xlabel(\"Duración de llamadas (segundos)\")\n",
        "plt.ylabel(\"Frecuencia\")\n",
        "plt.title(\"Distribución de la duración de llamadas\")\n",
        "plt.grid(True)\n",
        "plt.show()"
      ],
      "metadata": {
        "colab": {
          "base_uri": "https://localhost:8080/",
          "height": 488
        },
        "id": "84ijWJMM8ZpI",
        "outputId": "687dc3ec-801b-4cd3-ea3c-0dac3e08fa8c"
      },
      "execution_count": null,
      "outputs": [
        {
          "output_type": "display_data",
          "data": {
            "text/plain": [
              "<Figure size 1000x500 with 1 Axes>"
            ],
            "image/png": "[encoded data removed]"
          },
          "metadata": {}
        }
      ]
    },
    {
      "cell_type": "markdown",
      "source": [
        "***Observaciones***\n",
        "\n",
        "- ***La mayoría de las llamadas tienen una duración muy breve, lo que sugiere que en general las comunicaciones son rápidas.***\n",
        "-***A medida que aumenta la duración, la cantidad de llamadas se reduce drásticamente, lo que indica que es poco común que una llamada dure demasiado tiempo.***\n",
        "- ***Si hay llamadas con una duración muy alta, podrían ser outliers que afectan el análisis.***"
      ],
      "metadata": {
        "id": "uoAAXdZq_bWx"
      }
    },
    {
      "cell_type": "markdown",
      "source": [
        "4.2.- Calcular los patrones en llamadas perdidas o duración"
      ],
      "metadata": {
        "id": "EkvrsWm3AC2B"
      }
    },
    {
      "cell_type": "code",
      "source": [
        "# Proporción de llamadas perdidas\n",
        "plt.figure(figsize=(7, 5))\n",
        "sns.countplot(x=dataset[\"is_missed_call\"])\n",
        "plt.xlabel(\"¿Llamada perdida?\")\n",
        "plt.ylabel(\"Cantidad\")\n",
        "plt.title(\"Distribución de llamadas perdidas\")\n",
        "plt.grid(True)\n",
        "plt.show()"
      ],
      "metadata": {
        "colab": {
          "base_uri": "https://localhost:8080/",
          "height": 488
        },
        "id": "X7Mp54TU8cYP",
        "outputId": "80e4b643-5958-48c3-818e-8c3207519453"
      },
      "execution_count": null,
      "outputs": [
        {
          "output_type": "display_data",
          "data": {
            "text/plain": [
              "<Figure size 700x500 with 1 Axes>"
            ],
            "image/png": "[encoded data removed]"
          },
          "metadata": {}
        }
      ]
    },
    {
      "cell_type": "markdown",
      "source": [
        "***Observaciones***\n",
        "\n",
        "- ***Más llamadas no perdidas (False) que perdidas (True): Esto indica que la mayoría de las llamadas fueron respondidas, lo cual es positivo.***\n",
        "\n",
        "- ***Cantidad significativa de llamadas perdidas: Aunque False tiene la mayoría, True también representa una proporción considerable, lo que podría señalar problemas operativos.***\n",
        "\n",
        "- ***Impacto en la ineficacia de operadores: Si los operadores responsables de las llamadas perdidas también tienen tiempos de espera elevados o pocas llamadas salientes, podríamos identificarlos como ineficaces.***"
      ],
      "metadata": {
        "id": "X3DD3xHoAJw4"
      }
    },
    {
      "cell_type": "markdown",
      "source": [
        "4.3.- Calcular la distribución por dirección."
      ],
      "metadata": {
        "id": "mzvJd8RKA36O"
      }
    },
    {
      "cell_type": "code",
      "source": [
        "# Distribución de llamadas por dirección (in, out, internal)\n",
        "plt.figure(figsize=(10, 5))\n",
        "sns.countplot(x=dataset[\"direction\"])\n",
        "plt.xlabel(\"Dirección de la llamada\")\n",
        "plt.ylabel(\"Cantidad\")\n",
        "plt.title(\"Distribución de llamadas por tipo\")\n",
        "plt.grid(True)\n",
        "plt.show()"
      ],
      "metadata": {
        "colab": {
          "base_uri": "https://localhost:8080/",
          "height": 488
        },
        "id": "0hyjyJX48eZI",
        "outputId": "30d99d8c-5650-490f-c165-062a141a2295"
      },
      "execution_count": null,
      "outputs": [
        {
          "output_type": "display_data",
          "data": {
            "text/plain": [
              "<Figure size 1000x500 with 1 Axes>"
            ],
            "image/png": "[encoded data removed]"
          },
          "metadata": {}
        }
      ]
    },
    {
      "cell_type": "markdown",
      "source": [
        "***Observaciones***\n",
        "- ***Mayor cantidad de llamadas salientes (out) que entrantes (in) → aproximadamente 30,000 llamadas salientes vs 20,000 llamadas entrantes.***\n",
        "\n",
        "- ***Esto sugiere que las operaciones de los operadores están más enfocadas en realizar llamadas en lugar de recibirlas, lo cual es relevante para nuestro análisis de ineficacia.***\n",
        "\n",
        "- ***Podría ser útil analizar la proporción de llamadas perdidas dentro de cada tipo para ver si las llamadas entrantes son más propensas a ser perdidas.***"
      ],
      "metadata": {
        "id": "tAePHCiyA9bg"
      }
    },
    {
      "cell_type": "markdown",
      "source": [
        "4.4.-Eliminar valores extremos (outliers) en calls_count, call_duration y total_call_duration"
      ],
      "metadata": {
        "id": "I0-ue_UlBVGo"
      }
    },
    {
      "cell_type": "code",
      "source": [
        "# Calcular el IQR para eliminar outliers\n",
        "def remove_outliers(df, column):\n",
        "    Q1 = df[column].quantile(0.25)\n",
        "    Q3 = df[column].quantile(0.75)\n",
        "    IQR = Q3 - Q1\n",
        "    lower_bound = Q1 - 1.5 * IQR\n",
        "    upper_bound = Q3 + 1.5 * IQR\n",
        "    return df[(df[column] >= lower_bound) & (df[column] <= upper_bound)]\n",
        "\n",
        "# Aplicar limpieza a las columnas clave\n",
        "telecom_data_clean = remove_outliers(dataset, \"calls_count\")\n",
        "telecom_data_clean = remove_outliers(telecom_data_clean, \"call_duration\")\n",
        "telecom_data_clean = remove_outliers(telecom_data_clean, \"total_call_duration\")\n"
      ],
      "metadata": {
        "id": "pFW1Gk5MB23I"
      },
      "execution_count": null,
      "outputs": []
    },
    {
      "cell_type": "markdown",
      "source": [
        "4.5.-Calcular el tiempo de espera (wait_time)"
      ],
      "metadata": {
        "id": "oiXb1tcoDKFC"
      }
    },
    {
      "cell_type": "code",
      "source": [
        "telecom_data_clean[\"wait_time\"] = telecom_data_clean[\"total_call_duration\"] - telecom_data_clean[\"call_duration\"]"
      ],
      "metadata": {
        "id": "sMVCYLQkDENJ"
      },
      "execution_count": null,
      "outputs": []
    },
    {
      "cell_type": "markdown",
      "source": [
        "4.6.-Verificar la distribución después de la limpieza"
      ],
      "metadata": {
        "id": "15pBzt_uDVud"
      }
    },
    {
      "cell_type": "code",
      "source": [
        "telecom_data_clean.describe()"
      ],
      "metadata": {
        "colab": {
          "base_uri": "https://localhost:8080/",
          "height": 300
        },
        "id": "tdwc1w7EDG8x",
        "outputId": "ed2a0048-9a10-4ac8-e51b-da97babbc5c0"
      },
      "execution_count": null,
      "outputs": [
        {
          "output_type": "execute_result",
          "data": {
            "text/plain": [
              "             user_id    operator_id   calls_count  call_duration  \\\n",
              "count   34869.000000   28056.000000  34869.000000   34869.000000   \n",
              "mean   167262.283920  915797.772812      4.043334      96.523445   \n",
              "std       575.637243   20783.770769      4.745972     163.899470   \n",
              "min    166377.000000  879896.000000      1.000000       0.000000   \n",
              "25%    166800.000000  900788.000000      1.000000       0.000000   \n",
              "50%    167150.000000  910532.000000      2.000000       0.000000   \n",
              "75%    167716.000000  933810.000000      5.000000     126.000000   \n",
              "max    168606.000000  973286.000000     28.000000     758.000000   \n",
              "\n",
              "       total_call_duration     wait_time  \n",
              "count         34869.000000  34869.000000  \n",
              "mean            169.780779     73.257335  \n",
              "std             189.240975    113.360478  \n",
              "min               0.000000      0.000000  \n",
              "25%              28.000000     11.000000  \n",
              "50%              90.000000     30.000000  \n",
              "75%             256.000000     78.000000  \n",
              "max             761.000000    761.000000  "
            ],
            "text/html": [
              "\n",
              "  <div id=\"df-2aced656-65fe-4f44-81cf-5928095da754\" class=\"colab-df-container\">\n",
              "    <div>\n",
              "<style scoped>\n",
              "    .dataframe tbody tr th:only-of-type {\n",
              "        vertical-align: middle;\n",
              "    }\n",
              "\n",
              "    .dataframe tbody tr th {\n",
              "        vertical-align: top;\n",
              "    }\n",
              "\n",
              "    .dataframe thead th {\n",
              "        text-align: right;\n",
              "    }\n",
              "</style>\n",
              "<table border=\"1\" class=\"dataframe\">\n",
              "  <thead>\n",
              "    <tr style=\"text-align: right;\">\n",
              "      <th></th>\n",
              "      <th>user_id</th>\n",
              "      <th>operator_id</th>\n",
              "      <th>calls_count</th>\n",
              "      <th>call_duration</th>\n",
              "      <th>total_call_duration</th>\n",
              "      <th>wait_time</th>\n",
              "    </tr>\n",
              "  </thead>\n",
              "  <tbody>\n",
              "    <tr>\n",
              "      <th>count</th>\n",
              "      <td>34869.000000</td>\n",
              "      <td>28056.000000</td>\n",
              "      <td>34869.000000</td>\n",
              "      <td>34869.000000</td>\n",
              "      <td>34869.000000</td>\n",
              "      <td>34869.000000</td>\n",
              "    </tr>\n",
              "    <tr>\n",
              "      <th>mean</th>\n",
              "      <td>167262.283920</td>\n",
              "      <td>915797.772812</td>\n",
              "      <td>4.043334</td>\n",
              "      <td>96.523445</td>\n",
              "      <td>169.780779</td>\n",
              "      <td>73.257335</td>\n",
              "    </tr>\n",
              "    <tr>\n",
              "      <th>std</th>\n",
              "      <td>575.637243</td>\n",
              "      <td>20783.770769</td>\n",
              "      <td>4.745972</td>\n",
              "      <td>163.899470</td>\n",
              "      <td>189.240975</td>\n",
              "      <td>113.360478</td>\n",
              "    </tr>\n",
              "    <tr>\n",
              "      <th>min</th>\n",
              "      <td>166377.000000</td>\n",
              "      <td>879896.000000</td>\n",
              "      <td>1.000000</td>\n",
              "      <td>0.000000</td>\n",
              "      <td>0.000000</td>\n",
              "      <td>0.000000</td>\n",
              "    </tr>\n",
              "    <tr>\n",
              "      <th>25%</th>\n",
              "      <td>166800.000000</td>\n",
              "      <td>900788.000000</td>\n",
              "      <td>1.000000</td>\n",
              "      <td>0.000000</td>\n",
              "      <td>28.000000</td>\n",
              "      <td>11.000000</td>\n",
              "    </tr>\n",
              "    <tr>\n",
              "      <th>50%</th>\n",
              "      <td>167150.000000</td>\n",
              "      <td>910532.000000</td>\n",
              "      <td>2.000000</td>\n",
              "      <td>0.000000</td>\n",
              "      <td>90.000000</td>\n",
              "      <td>30.000000</td>\n",
              "    </tr>\n",
              "    <tr>\n",
              "      <th>75%</th>\n",
              "      <td>167716.000000</td>\n",
              "      <td>933810.000000</td>\n",
              "      <td>5.000000</td>\n",
              "      <td>126.000000</td>\n",
              "      <td>256.000000</td>\n",
              "      <td>78.000000</td>\n",
              "    </tr>\n",
              "    <tr>\n",
              "      <th>max</th>\n",
              "      <td>168606.000000</td>\n",
              "      <td>973286.000000</td>\n",
              "      <td>28.000000</td>\n",
              "      <td>758.000000</td>\n",
              "      <td>761.000000</td>\n",
              "      <td>761.000000</td>\n",
              "    </tr>\n",
              "  </tbody>\n",
              "</table>\n",
              "</div>\n",
              "    <div class=\"colab-df-buttons\">\n",
              "\n",
              "  <div class=\"colab-df-container\">\n",
              "    <button class=\"colab-df-convert\" onclick=\"convertToInteractive('df-2aced656-65fe-4f44-81cf-5928095da754')\"\n",
              "            title=\"Convert this dataframe to an interactive table.\"\n",
              "            style=\"display:none;\">\n",
              "\n",
              "  <svg xmlns=\"http://www.w3.org/2000/svg\" height=\"24px\" viewBox=\"0 -960 960 960\">\n",
              "    <path d=\"M120-120v-720h720v720H120Zm60-500h600v-160H180v160Zm220 220h160v-160H400v160Zm0 220h160v-160H400v160ZM180-400h160v-160H180v160Zm440 0h160v-160H620v160ZM180-180h160v-160H180v160Zm440 0h160v-160H620v160Z\"/>\n",
              "  </svg>\n",
              "    </button>\n",
              "\n",
              "  <style>\n",
              "    .colab-df-container {\n",
              "      display:flex;\n",
              "      gap: 12px;\n",
              "    }\n",
              "\n",
              "    .colab-df-convert {\n",
              "      background-color: #E8F0FE;\n",
              "      border: none;\n",
              "      border-radius: 50%;\n",
              "      cursor: pointer;\n",
              "      display: none;\n",
              "      fill: #1967D2;\n",
              "      height: 32px;\n",
              "      padding: 0 0 0 0;\n",
              "      width: 32px;\n",
              "    }\n",
              "\n",
              "    .colab-df-convert:hover {\n",
              "      background-color: #E2EBFA;\n",
              "      box-shadow: 0px 1px 2px rgba(60, 64, 67, 0.3), 0px 1px 3px 1px rgba(60, 64, 67, 0.15);\n",
              "      fill: #174EA6;\n",
              "    }\n",
              "\n",
              "    .colab-df-buttons div {\n",
              "      margin-bottom: 4px;\n",
              "    }\n",
              "\n",
              "    [theme=dark] .colab-df-convert {\n",
              "      background-color: #3B4455;\n",
              "      fill: #D2E3FC;\n",
              "    }\n",
              "\n",
              "    [theme=dark] .colab-df-convert:hover {\n",
              "      background-color: #434B5C;\n",
              "      box-shadow: 0px 1px 3px 1px rgba(0, 0, 0, 0.15);\n",
              "      filter: drop-shadow(0px 1px 2px rgba(0, 0, 0, 0.3));\n",
              "      fill: #FFFFFF;\n",
              "    }\n",
              "  </style>\n",
              "\n",
              "    <script>\n",
              "      const buttonEl =\n",
              "        document.querySelector('#df-2aced656-65fe-4f44-81cf-5928095da754 button.colab-df-convert');\n",
              "      buttonEl.style.display =\n",
              "        google.colab.kernel.accessAllowed ? 'block' : 'none';\n",
              "\n",
              "      async function convertToInteractive(key) {\n",
              "        const element = document.querySelector('#df-2aced656-65fe-4f44-81cf-5928095da754');\n",
              "        const dataTable =\n",
              "          await google.colab.kernel.invokeFunction('convertToInteractive',\n",
              "                                                    [key], {});\n",
              "        if (!dataTable) return;\n",
              "\n",
              "        const docLinkHtml = 'Like what you see? Visit the ' +\n",
              "          '<a target=\"_blank\" href=https://colab.research.google.com/notebooks/data_table.ipynb>data table notebook</a>'\n",
              "          + ' to learn more about interactive tables.';\n",
              "        element.innerHTML = '';\n",
              "        dataTable['output_type'] = 'display_data';\n",
              "        await google.colab.output.renderOutput(dataTable, element);\n",
              "        const docLink = document.createElement('div');\n",
              "        docLink.innerHTML = docLinkHtml;\n",
              "        element.appendChild(docLink);\n",
              "      }\n",
              "    </script>\n",
              "  </div>\n",
              "\n",
              "\n",
              "    <div id=\"df-3b2d5a81-55ad-4d9f-9af9-28df1852ce89\">\n",
              "      <button class=\"colab-df-quickchart\" onclick=\"quickchart('df-3b2d5a81-55ad-4d9f-9af9-28df1852ce89')\"\n",
              "                title=\"Suggest charts\"\n",
              "                style=\"display:none;\">\n",
              "\n",
              "<svg xmlns=\"http://www.w3.org/2000/svg\" height=\"24px\"viewBox=\"0 0 24 24\"\n",
              "     width=\"24px\">\n",
              "    <g>\n",
              "        <path d=\"M19 3H5c-1.1 0-2 .9-2 2v14c0 1.1.9 2 2 2h14c1.1 0 2-.9 2-2V5c0-1.1-.9-2-2-2zM9 17H7v-7h2v7zm4 0h-2V7h2v10zm4 0h-2v-4h2v4z\"/>\n",
              "    </g>\n",
              "</svg>\n",
              "      </button>\n",
              "\n",
              "<style>\n",
              "  .colab-df-quickchart {\n",
              "      --bg-color: #E8F0FE;\n",
              "      --fill-color: #1967D2;\n",
              "      --hover-bg-color: #E2EBFA;\n",
              "      --hover-fill-color: #174EA6;\n",
              "      --disabled-fill-color: #AAA;\n",
              "      --disabled-bg-color: #DDD;\n",
              "  }\n",
              "\n",
              "  [theme=dark] .colab-df-quickchart {\n",
              "      --bg-color: #3B4455;\n",
              "      --fill-color: #D2E3FC;\n",
              "      --hover-bg-color: #434B5C;\n",
              "      --hover-fill-color: #FFFFFF;\n",
              "      --disabled-bg-color: #3B4455;\n",
              "      --disabled-fill-color: #666;\n",
              "  }\n",
              "\n",
              "  .colab-df-quickchart {\n",
              "    background-color: var(--bg-color);\n",
              "    border: none;\n",
              "    border-radius: 50%;\n",
              "    cursor: pointer;\n",
              "    display: none;\n",
              "    fill: var(--fill-color);\n",
              "    height: 32px;\n",
              "    padding: 0;\n",
              "    width: 32px;\n",
              "  }\n",
              "\n",
              "  .colab-df-quickchart:hover {\n",
              "    background-color: var(--hover-bg-color);\n",
              "    box-shadow: 0 1px 2px rgba(60, 64, 67, 0.3), 0 1px 3px 1px rgba(60, 64, 67, 0.15);\n",
              "    fill: var(--button-hover-fill-color);\n",
              "  }\n",
              "\n",
              "  .colab-df-quickchart-complete:disabled,\n",
              "  .colab-df-quickchart-complete:disabled:hover {\n",
              "    background-color: var(--disabled-bg-color);\n",
              "    fill: var(--disabled-fill-color);\n",
              "    box-shadow: none;\n",
              "  }\n",
              "\n",
              "  .colab-df-spinner {\n",
              "    border: 2px solid var(--fill-color);\n",
              "    border-color: transparent;\n",
              "    border-bottom-color: var(--fill-color);\n",
              "    animation:\n",
              "      spin 1s steps(1) infinite;\n",
              "  }\n",
              "\n",
              "  @keyframes spin {\n",
              "    0% {\n",
              "      border-color: transparent;\n",
              "      border-bottom-color: var(--fill-color);\n",
              "      border-left-color: var(--fill-color);\n",
              "    }\n",
              "    20% {\n",
              "      border-color: transparent;\n",
              "      border-left-color: var(--fill-color);\n",
              "      border-top-color: var(--fill-color);\n",
              "    }\n",
              "    30% {\n",
              "      border-color: transparent;\n",
              "      border-left-color: var(--fill-color);\n",
              "      border-top-color: var(--fill-color);\n",
              "      border-right-color: var(--fill-color);\n",
              "    }\n",
              "    40% {\n",
              "      border-color: transparent;\n",
              "      border-right-color: var(--fill-color);\n",
              "      border-top-color: var(--fill-color);\n",
              "    }\n",
              "    60% {\n",
              "      border-color: transparent;\n",
              "      border-right-color: var(--fill-color);\n",
              "    }\n",
              "    80% {\n",
              "      border-color: transparent;\n",
              "      border-right-color: var(--fill-color);\n",
              "      border-bottom-color: var(--fill-color);\n",
              "    }\n",
              "    90% {\n",
              "      border-color: transparent;\n",
              "      border-bottom-color: var(--fill-color);\n",
              "    }\n",
              "  }\n",
              "</style>\n",
              "\n",
              "      <script>\n",
              "        async function quickchart(key) {\n",
              "          const quickchartButtonEl =\n",
              "            document.querySelector('#' + key + ' button');\n",
              "          quickchartButtonEl.disabled = true;  // To prevent multiple clicks.\n",
              "          quickchartButtonEl.classList.add('colab-df-spinner');\n",
              "          try {\n",
              "            const charts = await google.colab.kernel.invokeFunction(\n",
              "                'suggestCharts', [key], {});\n",
              "          } catch (error) {\n",
              "            console.error('Error during call to suggestCharts:', error);\n",
              "          }\n",
              "          quickchartButtonEl.classList.remove('colab-df-spinner');\n",
              "          quickchartButtonEl.classList.add('colab-df-quickchart-complete');\n",
              "        }\n",
              "        (() => {\n",
              "          let quickchartButtonEl =\n",
              "            document.querySelector('#df-3b2d5a81-55ad-4d9f-9af9-28df1852ce89 button');\n",
              "          quickchartButtonEl.style.display =\n",
              "            google.colab.kernel.accessAllowed ? 'block' : 'none';\n",
              "        })();\n",
              "      </script>\n",
              "    </div>\n",
              "\n",
              "    </div>\n",
              "  </div>\n"
            ],
            "application/vnd.google.colaboratory.intrinsic+json": {
              "type": "dataframe",
              "summary": "{\n  \"name\": \"telecom_data_clean\",\n  \"rows\": 8,\n  \"fields\": [\n    {\n      \"column\": \"user_id\",\n      \"properties\": {\n        \"dtype\": \"number\",\n        \"std\": 69856.55435587713,\n        \"min\": 575.6372428202117,\n        \"max\": 168606.0,\n        \"num_unique_values\": 8,\n        \"samples\": [\n          167262.28391981416,\n          167150.0,\n          34869.0\n        ],\n        \"semantic_type\": \"\",\n        \"description\": \"\"\n      }\n    },\n    {\n      \"column\": \"operator_id\",\n      \"properties\": {\n        \"dtype\": \"number\",\n        \"std\": 415003.43898353097,\n        \"min\": 20783.770768983573,\n        \"max\": 973286.0,\n        \"num_unique_values\": 8,\n        \"samples\": [\n          915797.7728115198,\n          910532.0,\n          28056.0\n        ],\n        \"semantic_type\": \"\",\n        \"description\": \"\"\n      }\n    },\n    {\n      \"column\": \"calls_count\",\n      \"properties\": {\n        \"dtype\": \"number\",\n        \"std\": 12325.743679920555,\n        \"min\": 1.0,\n        \"max\": 34869.0,\n        \"num_unique_values\": 7,\n        \"samples\": [\n          34869.0,\n          4.043333620121024,\n          5.0\n        ],\n        \"semantic_type\": \"\",\n        \"description\": \"\"\n      }\n    },\n    {\n      \"column\": \"call_duration\",\n      \"properties\": {\n        \"dtype\": \"number\",\n        \"std\": 12272.80938878782,\n        \"min\": 0.0,\n        \"max\": 34869.0,\n        \"num_unique_values\": 6,\n        \"samples\": [\n          34869.0,\n          96.52344489374516,\n          758.0\n        ],\n        \"semantic_type\": \"\",\n        \"description\": \"\"\n      }\n    },\n    {\n      \"column\": \"total_call_duration\",\n      \"properties\": {\n        \"dtype\": \"number\",\n        \"std\": 12254.921289992635,\n        \"min\": 0.0,\n        \"max\": 34869.0,\n        \"num_unique_values\": 8,\n        \"samples\": [\n          169.78077948894435,\n          90.0,\n          34869.0\n        ],\n        \"semantic_type\": \"\",\n        \"description\": \"\"\n      }\n    },\n    {\n      \"column\": \"wait_time\",\n      \"properties\": {\n        \"dtype\": \"number\",\n        \"std\": 12276.752279880333,\n        \"min\": 0.0,\n        \"max\": 34869.0,\n        \"num_unique_values\": 8,\n        \"samples\": [\n          73.25733459519917,\n          30.0,\n          34869.0\n        ],\n        \"semantic_type\": \"\",\n        \"description\": \"\"\n      }\n    }\n  ]\n}"
            }
          },
          "metadata": {},
          "execution_count": 16
        }
      ]
    },
    {
      "cell_type": "markdown",
      "source": [
        "***Observaciones***\n",
        "\n",
        "- Reducción de registros: De 49,002 a 34,869, lo que indica que eliminamos valores extremos que distorsionaban el análisis.\n",
        "\n",
        "Llamadas por operador (calls_count):\n",
        "\n",
        "- Media: ~4 llamadas por operador.\n",
        "\n",
        "- Mediana: Solo 2 llamadas, lo que sugiere que la mayoría tiene actividad limitada.\n",
        "\n",
        "- Máximo: 28 llamadas, mucho menor que el extremo de 4,817 antes de la limpieza.\n",
        "\n",
        "Duración de llamadas (call_duration):\n",
        "\n",
        "- Media: 96 segundos (~1.6 minutos).\n",
        "\n",
        "- Máximo: 758 segundos (~12.6 minutos) → ya no tenemos valores como 40 horas, lo que mejora la precisión.\n",
        "\n",
        "Tiempo de espera (wait_time):\n",
        "\n",
        "- Media: 73 segundos (~1.2 minutos).\n",
        "\n",
        "- Mediana: 30 segundos, lo que indica que la mayoría de las llamadas tiene tiempos de espera relativamente cortos.\n",
        "\n",
        "- Máximo: 761 segundos (~12.7 minutos) → hay todavía algunos casos con esperas  prolongadas."
      ],
      "metadata": {
        "id": "F-23nVrxDcM7"
      }
    },
    {
      "cell_type": "markdown",
      "source": [
        "4.7.-Identificar operadores ineficaces.\n",
        "\n",
        "Criterios para considerar un operador ineficaz:\n",
        "- Altas llamadas perdidas → Si el porcentaje de llamadas perdidas es superior a cierto umbral (ej. >30% de sus llamadas).\n",
        "- Tiempo de espera prolongado → Si su wait_time promedio es mayor que el tercer cuartil (Q3) de la distribución general.\n",
        "- Pocas llamadas salientes → Si el operador hace menos llamadas salientes que el primer cuartil (Q1) del total.\n"
      ],
      "metadata": {
        "id": "ojXnHKwNEKmS"
      }
    },
    {
      "cell_type": "code",
      "source": [
        "# Calcular porcentaje de llamadas perdidas por operador\n",
        "operator_stats = telecom_data_clean.groupby(\"operator_id\").agg(\n",
        "    total_calls=(\"calls_count\", \"sum\"),\n",
        "    missed_calls=(\"is_missed_call\", \"sum\"),\n",
        "    avg_wait_time=(\"wait_time\", \"mean\"),\n",
        "    outgoing_calls=(\"calls_count\", lambda x: x[telecom_data_clean[\"direction\"] == \"out\"].sum())\n",
        ")\n",
        "\n",
        "# Calcular umbrales\n",
        "missed_threshold = operator_stats[\"missed_calls\"] / operator_stats[\"total_calls\"] > 0.3  # Más de 30% de llamadas perdidas\n",
        "wait_time_threshold = operator_stats[\"avg_wait_time\"] > operator_stats[\"avg_wait_time\"].quantile(0.75)  # Tiempo de espera alto\n",
        "outgoing_threshold = operator_stats[\"outgoing_calls\"] < operator_stats[\"outgoing_calls\"].quantile(0.25)  # Menos llamadas salientes\n",
        "\n",
        "# Identificar operadores ineficaces\n",
        "inefficient_operators = operator_stats[missed_threshold | wait_time_threshold | outgoing_threshold]\n",
        "\n",
        "# Mostrar resultados\n",
        "inefficient_operators\n"
      ],
      "metadata": {
        "colab": {
          "base_uri": "https://localhost:8080/",
          "height": 455
        },
        "id": "vaFbJUEAEa4a",
        "outputId": "1cf0ca29-204a-4058-be4a-7479bd27a25d"
      },
      "execution_count": null,
      "outputs": [
        {
          "output_type": "execute_result",
          "data": {
            "text/plain": [
              "             total_calls  missed_calls  avg_wait_time  outgoing_calls\n",
              "operator_id                                                          \n",
              "879898.0             747            49     127.130435             643\n",
              "880026.0             687            87     114.724771             663\n",
              "880028.0             992            78     203.888889             929\n",
              "881278.0              20             7       9.750000              20\n",
              "882476.0               3             0      31.666667               0\n",
              "...                  ...           ...            ...             ...\n",
              "971354.0               6             0      42.000000               0\n",
              "972410.0              11             1     224.000000              11\n",
              "972412.0              26             2     202.333333              25\n",
              "973120.0               3             1      10.000000               3\n",
              "973286.0               2             0      88.000000               0\n",
              "\n",
              "[585 rows x 4 columns]"
            ],
            "text/html": [
              "\n",
              "  <div id=\"df-18656e7d-9ab5-456a-8cc8-d13c83265ad0\" class=\"colab-df-container\">\n",
              "    <div>\n",
              "<style scoped>\n",
              "    .dataframe tbody tr th:only-of-type {\n",
              "        vertical-align: middle;\n",
              "    }\n",
              "\n",
              "    .dataframe tbody tr th {\n",
              "        vertical-align: top;\n",
              "    }\n",
              "\n",
              "    .dataframe thead th {\n",
              "        text-align: right;\n",
              "    }\n",
              "</style>\n",
              "<table border=\"1\" class=\"dataframe\">\n",
              "  <thead>\n",
              "    <tr style=\"text-align: right;\">\n",
              "      <th></th>\n",
              "      <th>total_calls</th>\n",
              "      <th>missed_calls</th>\n",
              "      <th>avg_wait_time</th>\n",
              "      <th>outgoing_calls</th>\n",
              "    </tr>\n",
              "    <tr>\n",
              "      <th>operator_id</th>\n",
              "      <th></th>\n",
              "      <th></th>\n",
              "      <th></th>\n",
              "      <th></th>\n",
              "    </tr>\n",
              "  </thead>\n",
              "  <tbody>\n",
              "    <tr>\n",
              "      <th>879898.0</th>\n",
              "      <td>747</td>\n",
              "      <td>49</td>\n",
              "      <td>127.130435</td>\n",
              "      <td>643</td>\n",
              "    </tr>\n",
              "    <tr>\n",
              "      <th>880026.0</th>\n",
              "      <td>687</td>\n",
              "      <td>87</td>\n",
              "      <td>114.724771</td>\n",
              "      <td>663</td>\n",
              "    </tr>\n",
              "    <tr>\n",
              "      <th>880028.0</th>\n",
              "      <td>992</td>\n",
              "      <td>78</td>\n",
              "      <td>203.888889</td>\n",
              "      <td>929</td>\n",
              "    </tr>\n",
              "    <tr>\n",
              "      <th>881278.0</th>\n",
              "      <td>20</td>\n",
              "      <td>7</td>\n",
              "      <td>9.750000</td>\n",
              "      <td>20</td>\n",
              "    </tr>\n",
              "    <tr>\n",
              "      <th>882476.0</th>\n",
              "      <td>3</td>\n",
              "      <td>0</td>\n",
              "      <td>31.666667</td>\n",
              "      <td>0</td>\n",
              "    </tr>\n",
              "    <tr>\n",
              "      <th>...</th>\n",
              "      <td>...</td>\n",
              "      <td>...</td>\n",
              "      <td>...</td>\n",
              "      <td>...</td>\n",
              "    </tr>\n",
              "    <tr>\n",
              "      <th>971354.0</th>\n",
              "      <td>6</td>\n",
              "      <td>0</td>\n",
              "      <td>42.000000</td>\n",
              "      <td>0</td>\n",
              "    </tr>\n",
              "    <tr>\n",
              "      <th>972410.0</th>\n",
              "      <td>11</td>\n",
              "      <td>1</td>\n",
              "      <td>224.000000</td>\n",
              "      <td>11</td>\n",
              "    </tr>\n",
              "    <tr>\n",
              "      <th>972412.0</th>\n",
              "      <td>26</td>\n",
              "      <td>2</td>\n",
              "      <td>202.333333</td>\n",
              "      <td>25</td>\n",
              "    </tr>\n",
              "    <tr>\n",
              "      <th>973120.0</th>\n",
              "      <td>3</td>\n",
              "      <td>1</td>\n",
              "      <td>10.000000</td>\n",
              "      <td>3</td>\n",
              "    </tr>\n",
              "    <tr>\n",
              "      <th>973286.0</th>\n",
              "      <td>2</td>\n",
              "      <td>0</td>\n",
              "      <td>88.000000</td>\n",
              "      <td>0</td>\n",
              "    </tr>\n",
              "  </tbody>\n",
              "</table>\n",
              "<p>585 rows × 4 columns</p>\n",
              "</div>\n",
              "    <div class=\"colab-df-buttons\">\n",
              "\n",
              "  <div class=\"colab-df-container\">\n",
              "    <button class=\"colab-df-convert\" onclick=\"convertToInteractive('df-18656e7d-9ab5-456a-8cc8-d13c83265ad0')\"\n",
              "            title=\"Convert this dataframe to an interactive table.\"\n",
              "            style=\"display:none;\">\n",
              "\n",
              "  <svg xmlns=\"http://www.w3.org/2000/svg\" height=\"24px\" viewBox=\"0 -960 960 960\">\n",
              "    <path d=\"M120-120v-720h720v720H120Zm60-500h600v-160H180v160Zm220 220h160v-160H400v160Zm0 220h160v-160H400v160ZM180-400h160v-160H180v160Zm440 0h160v-160H620v160ZM180-180h160v-160H180v160Zm440 0h160v-160H620v160Z\"/>\n",
              "  </svg>\n",
              "    </button>\n",
              "\n",
              "  <style>\n",
              "    .colab-df-container {\n",
              "      display:flex;\n",
              "      gap: 12px;\n",
              "    }\n",
              "\n",
              "    .colab-df-convert {\n",
              "      background-color: #E8F0FE;\n",
              "      border: none;\n",
              "      border-radius: 50%;\n",
              "      cursor: pointer;\n",
              "      display: none;\n",
              "      fill: #1967D2;\n",
              "      height: 32px;\n",
              "      padding: 0 0 0 0;\n",
              "      width: 32px;\n",
              "    }\n",
              "\n",
              "    .colab-df-convert:hover {\n",
              "      background-color: #E2EBFA;\n",
              "      box-shadow: 0px 1px 2px rgba(60, 64, 67, 0.3), 0px 1px 3px 1px rgba(60, 64, 67, 0.15);\n",
              "      fill: #174EA6;\n",
              "    }\n",
              "\n",
              "    .colab-df-buttons div {\n",
              "      margin-bottom: 4px;\n",
              "    }\n",
              "\n",
              "    [theme=dark] .colab-df-convert {\n",
              "      background-color: #3B4455;\n",
              "      fill: #D2E3FC;\n",
              "    }\n",
              "\n",
              "    [theme=dark] .colab-df-convert:hover {\n",
              "      background-color: #434B5C;\n",
              "      box-shadow: 0px 1px 3px 1px rgba(0, 0, 0, 0.15);\n",
              "      filter: drop-shadow(0px 1px 2px rgba(0, 0, 0, 0.3));\n",
              "      fill: #FFFFFF;\n",
              "    }\n",
              "  </style>\n",
              "\n",
              "    <script>\n",
              "      const buttonEl =\n",
              "        document.querySelector('#df-18656e7d-9ab5-456a-8cc8-d13c83265ad0 button.colab-df-convert');\n",
              "      buttonEl.style.display =\n",
              "        google.colab.kernel.accessAllowed ? 'block' : 'none';\n",
              "\n",
              "      async function convertToInteractive(key) {\n",
              "        const element = document.querySelector('#df-18656e7d-9ab5-456a-8cc8-d13c83265ad0');\n",
              "        const dataTable =\n",
              "          await google.colab.kernel.invokeFunction('convertToInteractive',\n",
              "                                                    [key], {});\n",
              "        if (!dataTable) return;\n",
              "\n",
              "        const docLinkHtml = 'Like what you see? Visit the ' +\n",
              "          '<a target=\"_blank\" href=https://colab.research.google.com/notebooks/data_table.ipynb>data table notebook</a>'\n",
              "          + ' to learn more about interactive tables.';\n",
              "        element.innerHTML = '';\n",
              "        dataTable['output_type'] = 'display_data';\n",
              "        await google.colab.output.renderOutput(dataTable, element);\n",
              "        const docLink = document.createElement('div');\n",
              "        docLink.innerHTML = docLinkHtml;\n",
              "        element.appendChild(docLink);\n",
              "      }\n",
              "    </script>\n",
              "  </div>\n",
              "\n",
              "\n",
              "    <div id=\"df-9354f4c0-0abb-424a-8d5a-3dafa541e0f6\">\n",
              "      <button class=\"colab-df-quickchart\" onclick=\"quickchart('df-9354f4c0-0abb-424a-8d5a-3dafa541e0f6')\"\n",
              "                title=\"Suggest charts\"\n",
              "                style=\"display:none;\">\n",
              "\n",
              "<svg xmlns=\"http://www.w3.org/2000/svg\" height=\"24px\"viewBox=\"0 0 24 24\"\n",
              "     width=\"24px\">\n",
              "    <g>\n",
              "        <path d=\"M19 3H5c-1.1 0-2 .9-2 2v14c0 1.1.9 2 2 2h14c1.1 0 2-.9 2-2V5c0-1.1-.9-2-2-2zM9 17H7v-7h2v7zm4 0h-2V7h2v10zm4 0h-2v-4h2v4z\"/>\n",
              "    </g>\n",
              "</svg>\n",
              "      </button>\n",
              "\n",
              "<style>\n",
              "  .colab-df-quickchart {\n",
              "      --bg-color: #E8F0FE;\n",
              "      --fill-color: #1967D2;\n",
              "      --hover-bg-color: #E2EBFA;\n",
              "      --hover-fill-color: #174EA6;\n",
              "      --disabled-fill-color: #AAA;\n",
              "      --disabled-bg-color: #DDD;\n",
              "  }\n",
              "\n",
              "  [theme=dark] .colab-df-quickchart {\n",
              "      --bg-color: #3B4455;\n",
              "      --fill-color: #D2E3FC;\n",
              "      --hover-bg-color: #434B5C;\n",
              "      --hover-fill-color: #FFFFFF;\n",
              "      --disabled-bg-color: #3B4455;\n",
              "      --disabled-fill-color: #666;\n",
              "  }\n",
              "\n",
              "  .colab-df-quickchart {\n",
              "    background-color: var(--bg-color);\n",
              "    border: none;\n",
              "    border-radius: 50%;\n",
              "    cursor: pointer;\n",
              "    display: none;\n",
              "    fill: var(--fill-color);\n",
              "    height: 32px;\n",
              "    padding: 0;\n",
              "    width: 32px;\n",
              "  }\n",
              "\n",
              "  .colab-df-quickchart:hover {\n",
              "    background-color: var(--hover-bg-color);\n",
              "    box-shadow: 0 1px 2px rgba(60, 64, 67, 0.3), 0 1px 3px 1px rgba(60, 64, 67, 0.15);\n",
              "    fill: var(--button-hover-fill-color);\n",
              "  }\n",
              "\n",
              "  .colab-df-quickchart-complete:disabled,\n",
              "  .colab-df-quickchart-complete:disabled:hover {\n",
              "    background-color: var(--disabled-bg-color);\n",
              "    fill: var(--disabled-fill-color);\n",
              "    box-shadow: none;\n",
              "  }\n",
              "\n",
              "  .colab-df-spinner {\n",
              "    border: 2px solid var(--fill-color);\n",
              "    border-color: transparent;\n",
              "    border-bottom-color: var(--fill-color);\n",
              "    animation:\n",
              "      spin 1s steps(1) infinite;\n",
              "  }\n",
              "\n",
              "  @keyframes spin {\n",
              "    0% {\n",
              "      border-color: transparent;\n",
              "      border-bottom-color: var(--fill-color);\n",
              "      border-left-color: var(--fill-color);\n",
              "    }\n",
              "    20% {\n",
              "      border-color: transparent;\n",
              "      border-left-color: var(--fill-color);\n",
              "      border-top-color: var(--fill-color);\n",
              "    }\n",
              "    30% {\n",
              "      border-color: transparent;\n",
              "      border-left-color: var(--fill-color);\n",
              "      border-top-color: var(--fill-color);\n",
              "      border-right-color: var(--fill-color);\n",
              "    }\n",
              "    40% {\n",
              "      border-color: transparent;\n",
              "      border-right-color: var(--fill-color);\n",
              "      border-top-color: var(--fill-color);\n",
              "    }\n",
              "    60% {\n",
              "      border-color: transparent;\n",
              "      border-right-color: var(--fill-color);\n",
              "    }\n",
              "    80% {\n",
              "      border-color: transparent;\n",
              "      border-right-color: var(--fill-color);\n",
              "      border-bottom-color: var(--fill-color);\n",
              "    }\n",
              "    90% {\n",
              "      border-color: transparent;\n",
              "      border-bottom-color: var(--fill-color);\n",
              "    }\n",
              "  }\n",
              "</style>\n",
              "\n",
              "      <script>\n",
              "        async function quickchart(key) {\n",
              "          const quickchartButtonEl =\n",
              "            document.querySelector('#' + key + ' button');\n",
              "          quickchartButtonEl.disabled = true;  // To prevent multiple clicks.\n",
              "          quickchartButtonEl.classList.add('colab-df-spinner');\n",
              "          try {\n",
              "            const charts = await google.colab.kernel.invokeFunction(\n",
              "                'suggestCharts', [key], {});\n",
              "          } catch (error) {\n",
              "            console.error('Error during call to suggestCharts:', error);\n",
              "          }\n",
              "          quickchartButtonEl.classList.remove('colab-df-spinner');\n",
              "          quickchartButtonEl.classList.add('colab-df-quickchart-complete');\n",
              "        }\n",
              "        (() => {\n",
              "          let quickchartButtonEl =\n",
              "            document.querySelector('#df-9354f4c0-0abb-424a-8d5a-3dafa541e0f6 button');\n",
              "          quickchartButtonEl.style.display =\n",
              "            google.colab.kernel.accessAllowed ? 'block' : 'none';\n",
              "        })();\n",
              "      </script>\n",
              "    </div>\n",
              "\n",
              "  <div id=\"id_dce38b42-42a3-49bc-bede-5fa46c5c244a\">\n",
              "    <style>\n",
              "      .colab-df-generate {\n",
              "        background-color: #E8F0FE;\n",
              "        border: none;\n",
              "        border-radius: 50%;\n",
              "        cursor: pointer;\n",
              "        display: none;\n",
              "        fill: #1967D2;\n",
              "        height: 32px;\n",
              "        padding: 0 0 0 0;\n",
              "        width: 32px;\n",
              "      }\n",
              "\n",
              "      .colab-df-generate:hover {\n",
              "        background-color: #E2EBFA;\n",
              "        box-shadow: 0px 1px 2px rgba(60, 64, 67, 0.3), 0px 1px 3px 1px rgba(60, 64, 67, 0.15);\n",
              "        fill: #174EA6;\n",
              "      }\n",
              "\n",
              "      [theme=dark] .colab-df-generate {\n",
              "        background-color: #3B4455;\n",
              "        fill: #D2E3FC;\n",
              "      }\n",
              "\n",
              "      [theme=dark] .colab-df-generate:hover {\n",
              "        background-color: #434B5C;\n",
              "        box-shadow: 0px 1px 3px 1px rgba(0, 0, 0, 0.15);\n",
              "        filter: drop-shadow(0px 1px 2px rgba(0, 0, 0, 0.3));\n",
              "        fill: #FFFFFF;\n",
              "      }\n",
              "    </style>\n",
              "    <button class=\"colab-df-generate\" onclick=\"generateWithVariable('inefficient_operators')\"\n",
              "            title=\"Generate code using this dataframe.\"\n",
              "            style=\"display:none;\">\n",
              "\n",
              "  <svg xmlns=\"http://www.w3.org/2000/svg\" height=\"24px\"viewBox=\"0 0 24 24\"\n",
              "       width=\"24px\">\n",
              "    <path d=\"M7,19H8.4L18.45,9,17,7.55,7,17.6ZM5,21V16.75L18.45,3.32a2,2,0,0,1,2.83,0l1.4,1.43a1.91,1.91,0,0,1,.58,1.4,1.91,1.91,0,0,1-.58,1.4L9.25,21ZM18.45,9,17,7.55Zm-12,3A5.31,5.31,0,0,0,4.9,8.1,5.31,5.31,0,0,0,1,6.5,5.31,5.31,0,0,0,4.9,4.9,5.31,5.31,0,0,0,6.5,1,5.31,5.31,0,0,0,8.1,4.9,5.31,5.31,0,0,0,12,6.5,5.46,5.46,0,0,0,6.5,12Z\"/>\n",
              "  </svg>\n",
              "    </button>\n",
              "    <script>\n",
              "      (() => {\n",
              "      const buttonEl =\n",
              "        document.querySelector('#id_dce38b42-42a3-49bc-bede-5fa46c5c244a button.colab-df-generate');\n",
              "      buttonEl.style.display =\n",
              "        google.colab.kernel.accessAllowed ? 'block' : 'none';\n",
              "\n",
              "      buttonEl.onclick = () => {\n",
              "        google.colab.notebook.generateWithVariable('inefficient_operators');\n",
              "      }\n",
              "      })();\n",
              "    </script>\n",
              "  </div>\n",
              "\n",
              "    </div>\n",
              "  </div>\n"
            ],
            "application/vnd.google.colaboratory.intrinsic+json": {
              "type": "dataframe",
              "variable_name": "inefficient_operators",
              "summary": "{\n  \"name\": \"inefficient_operators\",\n  \"rows\": 585,\n  \"fields\": [\n    {\n      \"column\": \"operator_id\",\n      \"properties\": {\n        \"dtype\": \"number\",\n        \"std\": 23000.844711704343,\n        \"min\": 879898.0,\n        \"max\": 973286.0,\n        \"num_unique_values\": 585,\n        \"samples\": [\n          937874.0,\n          940814.0,\n          899892.0\n        ],\n        \"semantic_type\": \"\",\n        \"description\": \"\"\n      }\n    },\n    {\n      \"column\": \"total_calls\",\n      \"properties\": {\n        \"dtype\": \"number\",\n        \"std\": 190,\n        \"min\": 1,\n        \"max\": 1145,\n        \"num_unique_values\": 217,\n        \"samples\": [\n          84,\n          90,\n          238\n        ],\n        \"semantic_type\": \"\",\n        \"description\": \"\"\n      }\n    },\n    {\n      \"column\": \"missed_calls\",\n      \"properties\": {\n        \"dtype\": \"number\",\n        \"std\": 17,\n        \"min\": 0,\n        \"max\": 110,\n        \"num_unique_values\": 74,\n        \"samples\": [\n          0,\n          76,\n          2\n        ],\n        \"semantic_type\": \"\",\n        \"description\": \"\"\n      }\n    },\n    {\n      \"column\": \"avg_wait_time\",\n      \"properties\": {\n        \"dtype\": \"number\",\n        \"std\": 118.8144662709516,\n        \"min\": 0.0,\n        \"max\": 724.0,\n        \"num_unique_values\": 476,\n        \"samples\": [\n          154.0,\n          129.05050505050505,\n          182.88\n        ],\n        \"semantic_type\": \"\",\n        \"description\": \"\"\n      }\n    },\n    {\n      \"column\": \"outgoing_calls\",\n      \"properties\": {\n        \"dtype\": \"number\",\n        \"std\": 172,\n        \"min\": 0,\n        \"max\": 978,\n        \"num_unique_values\": 200,\n        \"samples\": [\n          50,\n          459,\n          15\n        ],\n        \"semantic_type\": \"\",\n        \"description\": \"\"\n      }\n    }\n  ]\n}"
            }
          },
          "metadata": {},
          "execution_count": 17
        }
      ]
    },
    {
      "cell_type": "markdown",
      "source": [
        "***Observaciones***\n",
        "- ***Ahora tenemos una lista con 585 operadores identificados como ineficaces según los criterios que establecimos.***\n",
        "\n",
        "- ***Operadores con alto número de llamadas perdidas: Algunos tienen más de 700 llamadas, lo que puede indicar problemas operativos graves.***\n",
        "\n",
        "- ***Tiempo de espera prolongado: Algunos operadores tienen más de 200 segundos de espera en promedio, lo que puede afectar la experiencia del usuario.***\n",
        "\n",
        "- ***Operadores con pocas llamadas salientes: Algunos registran cero llamadas out, lo que sugiere inactividad o una función diferente dentro del sistema***"
      ],
      "metadata": {
        "id": "AwdJs0pYE8OB"
      }
    },
    {
      "cell_type": "markdown",
      "source": [
        "#5: Analisis estadistico"
      ],
      "metadata": {
        "id": "LYnUC-E5JLpC"
      }
    },
    {
      "cell_type": "markdown",
      "source": [
        "5.1.- Realizamos una prueba ttest para comprabar nuestras hipotesis:\n",
        "\n",
        "- H₀ (hipótesis nula): No hay diferencia significativa en el tiempo de espera promedio entre operadores ineficaces y eficaces.\n",
        "- H₁ (hipótesis alternativa): El tiempo de espera promedio de los operadores ineficaces es significativamente mayor que el de los operadores eficaces."
      ],
      "metadata": {
        "id": "zMvRht5WJPbL"
      }
    },
    {
      "cell_type": "code",
      "source": [
        "alpha=0.05  # Nivel de significancia inicial\n",
        "# Filtrar operadores eficaces (que no están en la lista de ineficaces)\n",
        "efficient_operators = operator_stats.drop(inefficient_operators.index)\n",
        "#realizamos la prueba de levene para identificar si verdaderamente las varianzas son nulas\n",
        "resultados = levene(inefficient_operators[\"avg_wait_time\"], efficient_operators[\"avg_wait_time\"])#pruebamos la hipótesis de que las varianzas de las dos poblaciones independientes son iguales\n",
        "print('valor p:', resultados.pvalue) #imprimimos el valor p obtenido\n",
        "\n",
        "if resultados.pvalue < alpha:#comparamos los valores p obtenidos con el nivel de significación estadística\n",
        "    print(\"Rechazamos la hipótesis nula\")\n",
        "else:\n",
        "    print(\"No podemos rechazar la hipótesis nula\")"
      ],
      "metadata": {
        "colab": {
          "base_uri": "https://localhost:8080/"
        },
        "id": "5JMxgU7NGyKk",
        "outputId": "e60705e2-3d43-490c-feba-2d402eb920fe"
      },
      "execution_count": null,
      "outputs": [
        {
          "output_type": "stream",
          "name": "stdout",
          "text": [
            "valor p: 2.2963600771248063e-42\n",
            "Rechazamos la hipótesis nula\n"
          ]
        }
      ]
    },
    {
      "cell_type": "code",
      "source": [
        "#Reaizamos las pruebas ttest para comprabar las hipotesis\n",
        "resultados = st.ttest_ind(inefficient_operators[\"avg_wait_time\"], efficient_operators[\"avg_wait_time\"], equal_var=False)\n",
        "print('valor p:', resultados.pvalue) #imprimimos el valor p obtenido\n",
        "\n",
        "if resultados.pvalue < alpha:#comparamos los valores p obtenidos con el nivel de significación estadística\n",
        "    print(\"Rechazamos la hipótesis nula\")\n",
        "else:\n",
        "    print(\"No podemos rechazar la hipótesis nula\")"
      ],
      "metadata": {
        "colab": {
          "base_uri": "https://localhost:8080/"
        },
        "id": "6-LcKyuDLSkb",
        "outputId": "2e86692b-07b2-425b-e818-3bf316ab07ab"
      },
      "execution_count": null,
      "outputs": [
        {
          "output_type": "stream",
          "name": "stdout",
          "text": [
            "valor p: 2.583206566056197e-35\n",
            "Rechazamos la hipótesis nula\n"
          ]
        }
      ]
    },
    {
      "cell_type": "markdown",
      "source": [
        "***Observaciones***\n",
        "\n",
        "***- T-statistic = 13.22 → Indica una diferencia notable en las medias de wait_time entre los grupos.***\n",
        "\n",
        "***- P-value = 0.00000 → Como es menor a 0.05, rechazamos la hipótesis nula, lo que significa que los operadores ineficaces tienen tiempos de espera significativamente más altos que los eficaces***"
      ],
      "metadata": {
        "id": "bVd5za89Ig9b"
      }
    },
    {
      "cell_type": "code",
      "source": [
        "# Calcular correlación de llamadas perdidas vs tiempo de espera\n",
        "correlation = operator_stats[\"missed_calls\"].corr(operator_stats[\"avg_wait_time\"])\n",
        "print(f\"Correlación entre llamadas perdidas y tiempo de espera: {correlation:.2f}\")\n",
        "\n",
        "# Visualización con scatterplot\n",
        "sns.scatterplot(x=operator_stats[\"missed_calls\"], y=operator_stats[\"avg_wait_time\"])\n",
        "plt.xlabel(\"Cantidad de llamadas perdidas\")\n",
        "plt.ylabel(\"Tiempo de espera promedio (segundos)\")\n",
        "plt.title(\"Relación entre llamadas perdidas y tiempo de espera\")\n",
        "plt.grid(True)\n",
        "plt.show()\n"
      ],
      "metadata": {
        "colab": {
          "base_uri": "https://localhost:8080/",
          "height": 489
        },
        "id": "Kg0mCbjYG50Z",
        "outputId": "f1041b41-4176-4760-c8c2-fc847ddbb9d4"
      },
      "execution_count": null,
      "outputs": [
        {
          "output_type": "stream",
          "name": "stdout",
          "text": [
            "Correlación entre llamadas perdidas y tiempo de espera: 0.16\n"
          ]
        },
        {
          "output_type": "display_data",
          "data": {
            "text/plain": [
              "<Figure size 640x480 with 1 Axes>"
            ],
            "image/png": "[encoded data removed]"
          },
          "metadata": {}
        }
      ]
    },
    {
      "cell_type": "markdown",
      "source": [
        "***Observaciones***\n",
        "\n",
        "- ***Los operadores con más llamadas perdidas tienden a tener tiempos de espera más altos, pero la relación no es lo suficientemente fuerte para afirmar que es la causa principal de la ineficacia.***\n",
        "\n",
        "- ***Otros factores podrían influir más en los tiempos de espera, como el tráfico de llamadas, la capacidad del operador o la gestión interna.***\n",
        "\n",
        "- ***El scatter plot confirma esta correlación débil, mostrando una distribución dispersa en los datos***"
      ],
      "metadata": {
        "id": "6aMQJ71CNDIV"
      }
    },
    {
      "cell_type": "markdown",
      "source": [
        "#6: Concluciones y recomendaciones"
      ],
      "metadata": {
        "id": "9mwj4YOfTY8F"
      }
    },
    {
      "cell_type": "markdown",
      "source": [
        "1. El tiempo de espera es el factor más determinante en la ineficacia.\n",
        "\n",
        " Los operadores con tiempos de espera elevados presentan una diferencia estadísticamente significativa respecto a los demás. Reducir los tiempos de espera podría mejorar la eficiencia operativa y la calidad del servicio.\n",
        "\n",
        "2. La cantidad de llamadas perdidas no es el único problema.\n",
        "\n",
        "  Si bien las llamadas perdidas afectan la eficiencia de los operadores, la correlación encontrada es baja, lo que significa que otras variables (como carga de trabajo o gestión interna) pueden ser más influyentes.\n",
        "\n",
        "3. La distribución de llamadas podría mejorar.\n",
        "\n",
        " Muchos operadores tienen baja actividad en llamadas salientes, lo que sugiere que hay oportunidades de optimización en la asignación de tareas. Reasignar llamadas podría mejorar la eficiencia.\n",
        "\n",
        "4. La eliminación de outliers mejoró la calidad del análisis.\n",
        "\n",
        " Los datos sin valores extremos permitieron detectar patrones más claros y fundamentar las conclusiones con precisión.\n",
        "\n",
        "5. Existen oportunidades de mejora en la gestión operativa.\n",
        "\n",
        " Para mejorar la eficiencia, se recomienda optimizar la distribución de llamadas, reducir tiempos de espera y monitorear de cerca a los operadores con alto porcentaje de llamadas perdidas."
      ],
      "metadata": {
        "id": "I71QFvc7TfDk"
      }
    }
  ]
}